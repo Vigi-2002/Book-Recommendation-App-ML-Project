{
 "cells": [
  {
   "cell_type": "code",
   "execution_count": 1,
   "metadata": {
    "id": "8QBNX_yBXjm-"
   },
   "outputs": [],
   "source": [
    "import numpy as np\n",
    "import pandas as pd"
   ]
  },
  {
   "cell_type": "markdown",
   "metadata": {},
   "source": [
    "### Read the data"
   ]
  },
  {
   "cell_type": "code",
   "execution_count": 2,
   "metadata": {
    "colab": {
     "base_uri": "https://localhost:8080/"
    },
    "id": "ABvec-rfXqiP",
    "outputId": "c95bedde-37f1-4996-a96c-10ab08dcda57"
   },
   "outputs": [],
   "source": [
    "books = pd.read_csv('Books_sample.csv')\n",
    "users = pd.read_csv('Users.csv', encoding='latin-1')\n",
    "ratings = pd.read_csv('Ratings.csv', encoding='latin-1')"
   ]
  },
  {
   "cell_type": "code",
   "execution_count": 3,
   "metadata": {
    "colab": {
     "base_uri": "https://localhost:8080/"
    },
    "id": "WNvDB9mkIEqn",
    "outputId": "6fd9cc9e-ff43-4ff5-c9c4-0c928e32bf8a"
   },
   "outputs": [
    {
     "name": "stdout",
     "output_type": "stream",
     "text": [
      "Books Data: (2000, 8)\n",
      "Users Data: (278858, 3)\n",
      "Books-ratings: (1149780, 3)\n"
     ]
    }
   ],
   "source": [
    "print(\"Books Data:\", books.shape)\n",
    "print(\"Users Data:\", users.shape)\n",
    "print(\"Books-ratings:\", ratings.shape)"
   ]
  },
  {
   "cell_type": "markdown",
   "metadata": {
    "id": "Q3N6oJaSj8P0"
   },
   "source": [
    "### Books dataset(EDA)"
   ]
  },
  {
   "cell_type": "code",
   "execution_count": 4,
   "metadata": {
    "colab": {
     "base_uri": "https://localhost:8080/",
     "height": 335
    },
    "id": "oUFEvdupX7Gl",
    "outputId": "99713da4-8335-4c3c-b2a0-41d120a26fea"
   },
   "outputs": [
    {
     "data": {
      "text/plain": [
       "ISBN                   0\n",
       "Book-Title             0\n",
       "Book-Author            0\n",
       "Year-Of-Publication    0\n",
       "Publisher              0\n",
       "Image-URL-S            0\n",
       "Image-URL-M            0\n",
       "Image-URL-L            0\n",
       "dtype: int64"
      ]
     },
     "execution_count": 4,
     "metadata": {},
     "output_type": "execute_result"
    }
   ],
   "source": [
    "books.isna().sum()"
   ]
  },
  {
   "cell_type": "code",
   "execution_count": 5,
   "metadata": {
    "colab": {
     "base_uri": "https://localhost:8080/",
     "height": 271
    },
    "id": "vB0vIrg7Ia2p",
    "outputId": "21c764ff-2695-44ee-c8be-1aa3c1a94c77"
   },
   "outputs": [
    {
     "data": {
      "text/html": [
       "<div>\n",
       "<style scoped>\n",
       "    .dataframe tbody tr th:only-of-type {\n",
       "        vertical-align: middle;\n",
       "    }\n",
       "\n",
       "    .dataframe tbody tr th {\n",
       "        vertical-align: top;\n",
       "    }\n",
       "\n",
       "    .dataframe thead th {\n",
       "        text-align: right;\n",
       "    }\n",
       "</style>\n",
       "<table border=\"1\" class=\"dataframe\">\n",
       "  <thead>\n",
       "    <tr style=\"text-align: right;\">\n",
       "      <th></th>\n",
       "      <th>ISBN</th>\n",
       "      <th>Book-Title</th>\n",
       "      <th>Book-Author</th>\n",
       "      <th>Year-Of-Publication</th>\n",
       "      <th>Publisher</th>\n",
       "      <th>Image-URL-S</th>\n",
       "      <th>Image-URL-M</th>\n",
       "      <th>Image-URL-L</th>\n",
       "    </tr>\n",
       "  </thead>\n",
       "  <tbody>\n",
       "  </tbody>\n",
       "</table>\n",
       "</div>"
      ],
      "text/plain": [
       "Empty DataFrame\n",
       "Columns: [ISBN, Book-Title, Book-Author, Year-Of-Publication, Publisher, Image-URL-S, Image-URL-M, Image-URL-L]\n",
       "Index: []"
      ]
     },
     "execution_count": 5,
     "metadata": {},
     "output_type": "execute_result"
    }
   ],
   "source": [
    "books.loc[books['Book-Author'].isnull()]"
   ]
  },
  {
   "cell_type": "code",
   "execution_count": 6,
   "metadata": {
    "colab": {
     "base_uri": "https://localhost:8080/",
     "height": 184
    },
    "id": "C3DwJgztr4wU",
    "outputId": "82e350dc-4a35-4e42-c679-c6eed2cf01bc"
   },
   "outputs": [
    {
     "data": {
      "text/html": [
       "<div>\n",
       "<style scoped>\n",
       "    .dataframe tbody tr th:only-of-type {\n",
       "        vertical-align: middle;\n",
       "    }\n",
       "\n",
       "    .dataframe tbody tr th {\n",
       "        vertical-align: top;\n",
       "    }\n",
       "\n",
       "    .dataframe thead th {\n",
       "        text-align: right;\n",
       "    }\n",
       "</style>\n",
       "<table border=\"1\" class=\"dataframe\">\n",
       "  <thead>\n",
       "    <tr style=\"text-align: right;\">\n",
       "      <th></th>\n",
       "      <th>ISBN</th>\n",
       "      <th>Book-Title</th>\n",
       "      <th>Book-Author</th>\n",
       "      <th>Year-Of-Publication</th>\n",
       "      <th>Publisher</th>\n",
       "      <th>Image-URL-S</th>\n",
       "      <th>Image-URL-M</th>\n",
       "      <th>Image-URL-L</th>\n",
       "    </tr>\n",
       "  </thead>\n",
       "  <tbody>\n",
       "  </tbody>\n",
       "</table>\n",
       "</div>"
      ],
      "text/plain": [
       "Empty DataFrame\n",
       "Columns: [ISBN, Book-Title, Book-Author, Year-Of-Publication, Publisher, Image-URL-S, Image-URL-M, Image-URL-L]\n",
       "Index: []"
      ]
     },
     "execution_count": 6,
     "metadata": {},
     "output_type": "execute_result"
    }
   ],
   "source": [
    "books.loc[books['Publisher'].isnull()]"
   ]
  },
  {
   "cell_type": "code",
   "execution_count": 7,
   "metadata": {
    "colab": {
     "base_uri": "https://localhost:8080/",
     "height": 337
    },
    "id": "WMjSNTqjsBJU",
    "outputId": "2b2436f5-982a-4f28-922b-f0ed7b38baa4"
   },
   "outputs": [
    {
     "data": {
      "text/html": [
       "<div>\n",
       "<style scoped>\n",
       "    .dataframe tbody tr th:only-of-type {\n",
       "        vertical-align: middle;\n",
       "    }\n",
       "\n",
       "    .dataframe tbody tr th {\n",
       "        vertical-align: top;\n",
       "    }\n",
       "\n",
       "    .dataframe thead th {\n",
       "        text-align: right;\n",
       "    }\n",
       "</style>\n",
       "<table border=\"1\" class=\"dataframe\">\n",
       "  <thead>\n",
       "    <tr style=\"text-align: right;\">\n",
       "      <th></th>\n",
       "      <th>ISBN</th>\n",
       "      <th>Book-Title</th>\n",
       "      <th>Book-Author</th>\n",
       "      <th>Year-Of-Publication</th>\n",
       "      <th>Publisher</th>\n",
       "      <th>Image-URL-S</th>\n",
       "      <th>Image-URL-M</th>\n",
       "      <th>Image-URL-L</th>\n",
       "    </tr>\n",
       "  </thead>\n",
       "  <tbody>\n",
       "  </tbody>\n",
       "</table>\n",
       "</div>"
      ],
      "text/plain": [
       "Empty DataFrame\n",
       "Columns: [ISBN, Book-Title, Book-Author, Year-Of-Publication, Publisher, Image-URL-S, Image-URL-M, Image-URL-L]\n",
       "Index: []"
      ]
     },
     "execution_count": 7,
     "metadata": {},
     "output_type": "execute_result"
    }
   ],
   "source": [
    "books.loc[books['Image-URL-L'].isnull()]"
   ]
  },
  {
   "cell_type": "code",
   "execution_count": 8,
   "metadata": {
    "colab": {
     "base_uri": "https://localhost:8080/"
    },
    "id": "pke670hesoNr",
    "outputId": "c75fc035-1de8-482a-a301-f9d50d516c22"
   },
   "outputs": [
    {
     "data": {
      "text/plain": [
       "array([2002, 2001, 1991, 1999, 2000, 1993, 1996, 1988, 2004, 1998, 1994,\n",
       "       2003, 1997, 1983, 1979, 1995, 1982, 1985, 1992, 1986, 1978, 1980,\n",
       "       1952, 1987, 1990, 1981, 1989, 1984,    0, 1968, 1961, 1958, 1974,\n",
       "       1976, 1971, 1977, 1975, 1965, 1941, 1970, 1962, 1973, 1972, 1960,\n",
       "       1966, 1920, 1956, 1959, 1953], dtype=int64)"
      ]
     },
     "execution_count": 8,
     "metadata": {},
     "output_type": "execute_result"
    }
   ],
   "source": [
    "books['Year-Of-Publication'].unique()"
   ]
  },
  {
   "cell_type": "code",
   "execution_count": 9,
   "metadata": {
    "colab": {
     "base_uri": "https://localhost:8080/",
     "height": 375
    },
    "id": "3lkH_l20suAv",
    "outputId": "579cac24-595a-496e-e9e3-252128840ca6"
   },
   "outputs": [
    {
     "data": {
      "text/html": [
       "<div>\n",
       "<style scoped>\n",
       "    .dataframe tbody tr th:only-of-type {\n",
       "        vertical-align: middle;\n",
       "    }\n",
       "\n",
       "    .dataframe tbody tr th {\n",
       "        vertical-align: top;\n",
       "    }\n",
       "\n",
       "    .dataframe thead th {\n",
       "        text-align: right;\n",
       "    }\n",
       "</style>\n",
       "<table border=\"1\" class=\"dataframe\">\n",
       "  <thead>\n",
       "    <tr style=\"text-align: right;\">\n",
       "      <th></th>\n",
       "      <th>ISBN</th>\n",
       "      <th>Book-Title</th>\n",
       "      <th>Book-Author</th>\n",
       "      <th>Year-Of-Publication</th>\n",
       "      <th>Publisher</th>\n",
       "      <th>Image-URL-S</th>\n",
       "      <th>Image-URL-M</th>\n",
       "      <th>Image-URL-L</th>\n",
       "    </tr>\n",
       "  </thead>\n",
       "  <tbody>\n",
       "  </tbody>\n",
       "</table>\n",
       "</div>"
      ],
      "text/plain": [
       "Empty DataFrame\n",
       "Columns: [ISBN, Book-Title, Book-Author, Year-Of-Publication, Publisher, Image-URL-S, Image-URL-M, Image-URL-L]\n",
       "Index: []"
      ]
     },
     "execution_count": 9,
     "metadata": {},
     "output_type": "execute_result"
    }
   ],
   "source": [
    "books.loc[books['Year-Of-Publication'] == 'DK Publishing Inc']"
   ]
  },
  {
   "cell_type": "code",
   "execution_count": 10,
   "metadata": {
    "colab": {
     "base_uri": "https://localhost:8080/",
     "height": 170
    },
    "id": "a_OcziTTs3nI",
    "outputId": "3e766ad9-1c90-4ec8-aec0-84d15aa97c91"
   },
   "outputs": [
    {
     "data": {
      "text/html": [
       "<div>\n",
       "<style scoped>\n",
       "    .dataframe tbody tr th:only-of-type {\n",
       "        vertical-align: middle;\n",
       "    }\n",
       "\n",
       "    .dataframe tbody tr th {\n",
       "        vertical-align: top;\n",
       "    }\n",
       "\n",
       "    .dataframe thead th {\n",
       "        text-align: right;\n",
       "    }\n",
       "</style>\n",
       "<table border=\"1\" class=\"dataframe\">\n",
       "  <thead>\n",
       "    <tr style=\"text-align: right;\">\n",
       "      <th></th>\n",
       "      <th>ISBN</th>\n",
       "      <th>Book-Title</th>\n",
       "      <th>Book-Author</th>\n",
       "      <th>Year-Of-Publication</th>\n",
       "      <th>Publisher</th>\n",
       "      <th>Image-URL-S</th>\n",
       "      <th>Image-URL-M</th>\n",
       "      <th>Image-URL-L</th>\n",
       "    </tr>\n",
       "  </thead>\n",
       "  <tbody>\n",
       "  </tbody>\n",
       "</table>\n",
       "</div>"
      ],
      "text/plain": [
       "Empty DataFrame\n",
       "Columns: [ISBN, Book-Title, Book-Author, Year-Of-Publication, Publisher, Image-URL-S, Image-URL-M, Image-URL-L]\n",
       "Index: []"
      ]
     },
     "execution_count": 10,
     "metadata": {},
     "output_type": "execute_result"
    }
   ],
   "source": [
    "books.loc[books['Year-Of-Publication'] == 'Gallimard']"
   ]
  },
  {
   "cell_type": "code",
   "execution_count": 11,
   "metadata": {
    "id": "-UC_yniWuFV2"
   },
   "outputs": [],
   "source": [
    "books.at[209538 ,'Publisher'] = 'DK Publishing Inc'\n",
    "books.at[209538 ,'Year-Of-Publication'] = 2000\n",
    "books.at[209538 ,'Book-Author'] = 'Michael Teitelbaum'"
   ]
  },
  {
   "cell_type": "code",
   "execution_count": 12,
   "metadata": {
    "id": "ujXzAm1Hvo56"
   },
   "outputs": [],
   "source": [
    "books.at[221678 ,'Publisher'] = 'DK Publishing Inc'\n",
    "books.at[221678 ,'Year-Of-Publication'] = 2000\n",
    "books.at[221678 ,'Book-Author'] = 'James Buckley'"
   ]
  },
  {
   "cell_type": "code",
   "execution_count": 13,
   "metadata": {
    "id": "CQN7GiKxwXa-"
   },
   "outputs": [
    {
     "name": "stderr",
     "output_type": "stream",
     "text": [
      "C:\\Users\\vighn\\AppData\\Local\\Temp\\ipykernel_18580\\2419567506.py:2: FutureWarning: Setting an item of incompatible dtype is deprecated and will raise an error in a future version of pandas. Value '2003' has dtype incompatible with float64, please explicitly cast to a compatible dtype first.\n",
      "  books.at[220731 ,'Year-Of-Publication'] = '2003'\n"
     ]
    }
   ],
   "source": [
    "books.at[220731 ,'Publisher'] = 'Gallimard'\n",
    "books.at[220731 ,'Year-Of-Publication'] = '2003'\n",
    "books.at[220731 ,'Book-Author'] = 'Jean-Marie Gustave Le ClÃ?Â©zio'"
   ]
  },
  {
   "cell_type": "code",
   "execution_count": 14,
   "metadata": {
    "colab": {
     "base_uri": "https://localhost:8080/"
    },
    "id": "ua6uxOq4wxe3",
    "outputId": "3d8c619e-65be-46db-b8be-ae12c203e4d3"
   },
   "outputs": [
    {
     "data": {
      "text/plain": [
       "array([2002.0, 2001.0, 1991.0, 1999.0, 2000.0, 1993.0, 1996.0, 1988.0,\n",
       "       2004.0, 1998.0, 1994.0, 2003.0, 1997.0, 1983.0, 1979.0, 1995.0,\n",
       "       1982.0, 1985.0, 1992.0, 1986.0, 1978.0, 1980.0, 1952.0, 1987.0,\n",
       "       1990.0, 1981.0, 1989.0, 1984.0, 0.0, 1968.0, 1961.0, 1958.0,\n",
       "       1974.0, 1976.0, 1971.0, 1977.0, 1975.0, 1965.0, 1941.0, 1970.0,\n",
       "       1962.0, 1973.0, 1972.0, 1960.0, 1966.0, 1920.0, 1956.0, 1959.0,\n",
       "       1953.0, '2003'], dtype=object)"
      ]
     },
     "execution_count": 14,
     "metadata": {},
     "output_type": "execute_result"
    }
   ],
   "source": [
    "books['Year-Of-Publication'].unique()"
   ]
  },
  {
   "cell_type": "code",
   "execution_count": 15,
   "metadata": {
    "id": "6QnloQpaxCOt"
   },
   "outputs": [],
   "source": [
    "books['Year-Of-Publication'] = books['Year-Of-Publication'].astype(int)"
   ]
  },
  {
   "cell_type": "code",
   "execution_count": 16,
   "metadata": {
    "colab": {
     "base_uri": "https://localhost:8080/"
    },
    "id": "jDvFVAJ-x5-H",
    "outputId": "11e59526-3fcc-4ef6-a6ed-d0f030130a26"
   },
   "outputs": [
    {
     "data": {
      "text/plain": [
       "array([   0, 1920, 1941, 1952, 1953, 1956, 1958, 1959, 1960, 1961, 1962,\n",
       "       1965, 1966, 1968, 1970, 1971, 1972, 1973, 1974, 1975, 1976, 1977,\n",
       "       1978, 1979, 1980, 1981, 1982, 1983, 1984, 1985, 1986, 1987, 1988,\n",
       "       1989, 1990, 1991, 1992, 1993, 1994, 1995, 1996, 1997, 1998, 1999,\n",
       "       2000, 2001, 2002, 2003, 2004])"
      ]
     },
     "execution_count": 16,
     "metadata": {},
     "output_type": "execute_result"
    }
   ],
   "source": [
    "books['Year-Of-Publication'].sort_values().unique()"
   ]
  },
  {
   "cell_type": "code",
   "execution_count": 17,
   "metadata": {
    "colab": {
     "base_uri": "https://localhost:8080/",
     "height": 335
    },
    "id": "oKfRVHScyBx-",
    "outputId": "611d864d-b08d-4a4d-b898-4cad8640d5a5"
   },
   "outputs": [
    {
     "data": {
      "text/plain": [
       "ISBN                   3\n",
       "Book-Title             3\n",
       "Book-Author            0\n",
       "Year-Of-Publication    0\n",
       "Publisher              0\n",
       "Image-URL-S            3\n",
       "Image-URL-M            3\n",
       "Image-URL-L            3\n",
       "dtype: int64"
      ]
     },
     "execution_count": 17,
     "metadata": {},
     "output_type": "execute_result"
    }
   ],
   "source": [
    "# Checking for NULL values\n",
    "books.isna().sum()"
   ]
  },
  {
   "cell_type": "code",
   "execution_count": 18,
   "metadata": {
    "id": "eruQWYTffJE9"
   },
   "outputs": [],
   "source": [
    "# Handling NULL vales\n",
    "books['Book-Author'] = books['Book-Author'].fillna(\"Unknown\")\n",
    "books['Publisher'] = books['Publisher'].fillna(\"Unknown\")\n",
    "books['Image-URL-L'] = books['Image-URL-L'].fillna(\"Unknown\")"
   ]
  },
  {
   "cell_type": "code",
   "execution_count": 19,
   "metadata": {
    "colab": {
     "base_uri": "https://localhost:8080/",
     "height": 335
    },
    "id": "Vb6aFHbMg9l2",
    "outputId": "6c838ba3-64b5-43ca-e9a8-63efaa689cd3"
   },
   "outputs": [
    {
     "data": {
      "text/plain": [
       "ISBN                   3\n",
       "Book-Title             3\n",
       "Book-Author            0\n",
       "Year-Of-Publication    0\n",
       "Publisher              0\n",
       "Image-URL-S            3\n",
       "Image-URL-M            3\n",
       "Image-URL-L            0\n",
       "dtype: int64"
      ]
     },
     "execution_count": 19,
     "metadata": {},
     "output_type": "execute_result"
    }
   ],
   "source": [
    "books.isna().sum()"
   ]
  },
  {
   "cell_type": "code",
   "execution_count": 20,
   "metadata": {
    "id": "ZKitgnqIhfiE"
   },
   "outputs": [],
   "source": [
    "# Removing outliers\n",
    "books = books[(books['Year-Of-Publication'] >= 1800) & (books['Year-Of-Publication'] <= 2025)]"
   ]
  },
  {
   "cell_type": "code",
   "execution_count": 21,
   "metadata": {
    "colab": {
     "base_uri": "https://localhost:8080/",
     "height": 434
    },
    "id": "jSf1qWZEhxsj",
    "outputId": "ed6bc8b6-984e-49cf-8edf-8e316197816d"
   },
   "outputs": [
    {
     "data": {
      "text/html": [
       "<div>\n",
       "<style scoped>\n",
       "    .dataframe tbody tr th:only-of-type {\n",
       "        vertical-align: middle;\n",
       "    }\n",
       "\n",
       "    .dataframe tbody tr th {\n",
       "        vertical-align: top;\n",
       "    }\n",
       "\n",
       "    .dataframe thead th {\n",
       "        text-align: right;\n",
       "    }\n",
       "</style>\n",
       "<table border=\"1\" class=\"dataframe\">\n",
       "  <thead>\n",
       "    <tr style=\"text-align: right;\">\n",
       "      <th></th>\n",
       "      <th>ISBN</th>\n",
       "      <th>Book-Title</th>\n",
       "      <th>Book-Author</th>\n",
       "      <th>Year-Of-Publication</th>\n",
       "      <th>Publisher</th>\n",
       "      <th>Image-URL-S</th>\n",
       "      <th>Image-URL-M</th>\n",
       "      <th>Image-URL-L</th>\n",
       "    </tr>\n",
       "  </thead>\n",
       "  <tbody>\n",
       "    <tr>\n",
       "      <th>0</th>\n",
       "      <td>0195153448</td>\n",
       "      <td>Classical Mythology</td>\n",
       "      <td>Mark P. O. Morford</td>\n",
       "      <td>2002</td>\n",
       "      <td>Oxford University Press</td>\n",
       "      <td>http://images.amazon.com/images/P/0195153448.0...</td>\n",
       "      <td>http://images.amazon.com/images/P/0195153448.0...</td>\n",
       "      <td>http://images.amazon.com/images/P/0195153448.0...</td>\n",
       "    </tr>\n",
       "    <tr>\n",
       "      <th>1</th>\n",
       "      <td>0002005018</td>\n",
       "      <td>Clara Callan</td>\n",
       "      <td>Richard Bruce Wright</td>\n",
       "      <td>2001</td>\n",
       "      <td>HarperFlamingo Canada</td>\n",
       "      <td>http://images.amazon.com/images/P/0002005018.0...</td>\n",
       "      <td>http://images.amazon.com/images/P/0002005018.0...</td>\n",
       "      <td>http://images.amazon.com/images/P/0002005018.0...</td>\n",
       "    </tr>\n",
       "    <tr>\n",
       "      <th>2</th>\n",
       "      <td>0060973129</td>\n",
       "      <td>Decision in Normandy</td>\n",
       "      <td>Carlo D'Este</td>\n",
       "      <td>1991</td>\n",
       "      <td>HarperPerennial</td>\n",
       "      <td>http://images.amazon.com/images/P/0060973129.0...</td>\n",
       "      <td>http://images.amazon.com/images/P/0060973129.0...</td>\n",
       "      <td>http://images.amazon.com/images/P/0060973129.0...</td>\n",
       "    </tr>\n",
       "    <tr>\n",
       "      <th>3</th>\n",
       "      <td>0374157065</td>\n",
       "      <td>Flu: The Story of the Great Influenza Pandemic...</td>\n",
       "      <td>Gina Bari Kolata</td>\n",
       "      <td>1999</td>\n",
       "      <td>Farrar Straus Giroux</td>\n",
       "      <td>http://images.amazon.com/images/P/0374157065.0...</td>\n",
       "      <td>http://images.amazon.com/images/P/0374157065.0...</td>\n",
       "      <td>http://images.amazon.com/images/P/0374157065.0...</td>\n",
       "    </tr>\n",
       "    <tr>\n",
       "      <th>4</th>\n",
       "      <td>0393045218</td>\n",
       "      <td>The Mummies of Urumchi</td>\n",
       "      <td>E. J. W. Barber</td>\n",
       "      <td>1999</td>\n",
       "      <td>W. W. Norton &amp;amp; Company</td>\n",
       "      <td>http://images.amazon.com/images/P/0393045218.0...</td>\n",
       "      <td>http://images.amazon.com/images/P/0393045218.0...</td>\n",
       "      <td>http://images.amazon.com/images/P/0393045218.0...</td>\n",
       "    </tr>\n",
       "  </tbody>\n",
       "</table>\n",
       "</div>"
      ],
      "text/plain": [
       "         ISBN                                         Book-Title  \\\n",
       "0  0195153448                                Classical Mythology   \n",
       "1  0002005018                                       Clara Callan   \n",
       "2  0060973129                               Decision in Normandy   \n",
       "3  0374157065  Flu: The Story of the Great Influenza Pandemic...   \n",
       "4  0393045218                             The Mummies of Urumchi   \n",
       "\n",
       "            Book-Author  Year-Of-Publication                   Publisher  \\\n",
       "0    Mark P. O. Morford                 2002     Oxford University Press   \n",
       "1  Richard Bruce Wright                 2001       HarperFlamingo Canada   \n",
       "2          Carlo D'Este                 1991             HarperPerennial   \n",
       "3      Gina Bari Kolata                 1999        Farrar Straus Giroux   \n",
       "4       E. J. W. Barber                 1999  W. W. Norton &amp; Company   \n",
       "\n",
       "                                         Image-URL-S  \\\n",
       "0  http://images.amazon.com/images/P/0195153448.0...   \n",
       "1  http://images.amazon.com/images/P/0002005018.0...   \n",
       "2  http://images.amazon.com/images/P/0060973129.0...   \n",
       "3  http://images.amazon.com/images/P/0374157065.0...   \n",
       "4  http://images.amazon.com/images/P/0393045218.0...   \n",
       "\n",
       "                                         Image-URL-M  \\\n",
       "0  http://images.amazon.com/images/P/0195153448.0...   \n",
       "1  http://images.amazon.com/images/P/0002005018.0...   \n",
       "2  http://images.amazon.com/images/P/0060973129.0...   \n",
       "3  http://images.amazon.com/images/P/0374157065.0...   \n",
       "4  http://images.amazon.com/images/P/0393045218.0...   \n",
       "\n",
       "                                         Image-URL-L  \n",
       "0  http://images.amazon.com/images/P/0195153448.0...  \n",
       "1  http://images.amazon.com/images/P/0002005018.0...  \n",
       "2  http://images.amazon.com/images/P/0060973129.0...  \n",
       "3  http://images.amazon.com/images/P/0374157065.0...  \n",
       "4  http://images.amazon.com/images/P/0393045218.0...  "
      ]
     },
     "execution_count": 21,
     "metadata": {},
     "output_type": "execute_result"
    }
   ],
   "source": [
    "books.head()"
   ]
  },
  {
   "cell_type": "code",
   "execution_count": 22,
   "metadata": {
    "colab": {
     "base_uri": "https://localhost:8080/"
    },
    "id": "VnSzTyzsyX8R",
    "outputId": "35c82599-cefe-4882-c329-91782fa23587"
   },
   "outputs": [
    {
     "name": "stdout",
     "output_type": "stream",
     "text": [
      "<class 'pandas.core.frame.DataFrame'>\n",
      "Index: 1969 entries, 0 to 220731\n",
      "Data columns (total 8 columns):\n",
      " #   Column               Non-Null Count  Dtype \n",
      "---  ------               --------------  ----- \n",
      " 0   ISBN                 1966 non-null   object\n",
      " 1   Book-Title           1966 non-null   object\n",
      " 2   Book-Author          1969 non-null   object\n",
      " 3   Year-Of-Publication  1969 non-null   int32 \n",
      " 4   Publisher            1969 non-null   object\n",
      " 5   Image-URL-S          1966 non-null   object\n",
      " 6   Image-URL-M          1966 non-null   object\n",
      " 7   Image-URL-L          1969 non-null   object\n",
      "dtypes: int32(1), object(7)\n",
      "memory usage: 130.8+ KB\n"
     ]
    }
   ],
   "source": [
    "books.info()"
   ]
  },
  {
   "cell_type": "code",
   "execution_count": 23,
   "metadata": {
    "colab": {
     "base_uri": "https://localhost:8080/"
    },
    "id": "fhjqbyf9hzrv",
    "outputId": "a3f0f66d-50a6-4f38-ef7b-297ae1064f62"
   },
   "outputs": [
    {
     "data": {
      "text/plain": [
       "0"
      ]
     },
     "execution_count": 23,
     "metadata": {},
     "output_type": "execute_result"
    }
   ],
   "source": [
    "# Checking for duplicates\n",
    "books.duplicated().sum()"
   ]
  },
  {
   "cell_type": "markdown",
   "metadata": {},
   "source": [
    "### Visualization (Books Dataset)"
   ]
  },
  {
   "cell_type": "code",
   "execution_count": 24,
   "metadata": {},
   "outputs": [
    {
     "name": "stderr",
     "output_type": "stream",
     "text": [
      "C:\\Users\\vighn\\AppData\\Local\\Programs\\Python\\Python311\\Lib\\site-packages\\seaborn\\_oldcore.py:1119: FutureWarning: use_inf_as_na option is deprecated and will be removed in a future version. Convert inf values to NaN before operating instead.\n",
      "  with pd.option_context('mode.use_inf_as_na', True):\n"
     ]
    },
    {
     "data": {
      "image/png": "[encoded data removed]",
      "text/plain": [
       "<Figure size 1200x500 with 1 Axes>"
      ]
     },
     "metadata": {},
     "output_type": "display_data"
    }
   ],
   "source": [
    "import matplotlib.pyplot as plt\n",
    "import seaborn as sns\n",
    "\n",
    "# Plot1: Year-wise publication histogram\n",
    "\n",
    "plt.figure(figsize = (12, 5))\n",
    "sns.histplot(data = books, x = 'Year-Of-Publication', bins = 50, color = 'skyblue')\n",
    "plt.title('Year-wise Book Publications')\n",
    "plt.xlabel('Year of Publication')\n",
    "plt.ylabel('Number of Books')\n",
    "plt.grid(True)\n",
    "plt.tight_layout()\n",
    "plt.show()"
   ]
  },
  {
   "cell_type": "code",
   "execution_count": 25,
   "metadata": {},
   "outputs": [
    {
     "data": {
      "image/png": "[encoded data removed]",
      "text/plain": [
       "<Figure size 1000x500 with 1 Axes>"
      ]
     },
     "metadata": {},
     "output_type": "display_data"
    }
   ],
   "source": [
    "# Plot2: Top 15 authors\n",
    "\n",
    "top_authors = books['Book-Author'].value_counts().head(15)\n",
    "plt.figure(figsize=(10, 5))\n",
    "sns.barplot(x = top_authors.values, y = top_authors.index, palette = 'viridis')\n",
    "plt.title('Top 15 Authors by Number of Books')\n",
    "plt.xlabel('Number of Books')\n",
    "plt.ylabel('Author')\n",
    "plt.tight_layout()\n",
    "plt.show()"
   ]
  },
  {
   "cell_type": "code",
   "execution_count": 26,
   "metadata": {},
   "outputs": [
    {
     "data": {
      "image/png": "[encoded data removed]",
      "text/plain": [
       "<Figure size 1000x500 with 1 Axes>"
      ]
     },
     "metadata": {},
     "output_type": "display_data"
    }
   ],
   "source": [
    "# Plot3: Top 15 publishers\n",
    "\n",
    "top_publishers = books['Publisher'].value_counts().head(15)\n",
    "plt.figure(figsize = (10, 5))\n",
    "sns.barplot(x = top_publishers.values, y = top_publishers.index, palette = 'magma')\n",
    "plt.title('Top 15 Publishers by Number of Books')\n",
    "plt.xlabel('Number of Books')\n",
    "plt.ylabel('Publisher')\n",
    "plt.tight_layout()\n",
    "plt.show()"
   ]
  },
  {
   "cell_type": "code",
   "execution_count": null,
   "metadata": {},
   "outputs": [],
   "source": []
  },
  {
   "cell_type": "markdown",
   "metadata": {
    "id": "ZQgYCiQGyd4p"
   },
   "source": [
    "### User dataset(EDA)"
   ]
  },
  {
   "cell_type": "code",
   "execution_count": 27,
   "metadata": {
    "colab": {
     "base_uri": "https://localhost:8080/",
     "height": 178
    },
    "id": "ecewOHSWyltG",
    "outputId": "d2308fbb-4bc9-4fc6-ded6-065c23f42cd7"
   },
   "outputs": [
    {
     "data": {
      "text/plain": [
       "User-ID          0\n",
       "Location         0\n",
       "Age         110762\n",
       "dtype: int64"
      ]
     },
     "execution_count": 27,
     "metadata": {},
     "output_type": "execute_result"
    }
   ],
   "source": [
    "# Checking for NULL values\n",
    "users.isna().sum()"
   ]
  },
  {
   "cell_type": "code",
   "execution_count": 28,
   "metadata": {
    "colab": {
     "base_uri": "https://localhost:8080/"
    },
    "id": "_6wB98hfytLU",
    "outputId": "29b1e0ac-08b4-48c9-acea-c118f52a315c"
   },
   "outputs": [
    {
     "data": {
      "text/plain": [
       "array([  0.,   1.,   2.,   3.,   4.,   5.,   6.,   7.,   8.,   9.,  10.,\n",
       "        11.,  12.,  13.,  14.,  15.,  16.,  17.,  18.,  19.,  20.,  21.,\n",
       "        22.,  23.,  24.,  25.,  26.,  27.,  28.,  29.,  30.,  31.,  32.,\n",
       "        33.,  34.,  35.,  36.,  37.,  38.,  39.,  40.,  41.,  42.,  43.,\n",
       "        44.,  45.,  46.,  47.,  48.,  49.,  50.,  51.,  52.,  53.,  54.,\n",
       "        55.,  56.,  57.,  58.,  59.,  60.,  61.,  62.,  63.,  64.,  65.,\n",
       "        66.,  67.,  68.,  69.,  70.,  71.,  72.,  73.,  74.,  75.,  76.,\n",
       "        77.,  78.,  79.,  80.,  81.,  82.,  83.,  84.,  85.,  86.,  87.,\n",
       "        88.,  89.,  90.,  91.,  92.,  93.,  94.,  95.,  96.,  97.,  98.,\n",
       "        99., 100., 101., 102., 103., 104., 105., 106., 107., 108., 109.,\n",
       "       110., 111., 113., 114., 115., 116., 118., 119., 123., 124., 127.,\n",
       "       128., 132., 133., 136., 137., 138., 140., 141., 143., 146., 147.,\n",
       "       148., 151., 152., 156., 157., 159., 162., 168., 172., 175., 183.,\n",
       "       186., 189., 199., 200., 201., 204., 207., 208., 209., 210., 212.,\n",
       "       219., 220., 223., 226., 228., 229., 230., 231., 237., 239., 244.,\n",
       "        nan])"
      ]
     },
     "execution_count": 28,
     "metadata": {},
     "output_type": "execute_result"
    }
   ],
   "source": [
    "users['Age'].sort_values().unique()"
   ]
  },
  {
   "cell_type": "code",
   "execution_count": 29,
   "metadata": {
    "id": "q-ew6i_t1nyH"
   },
   "outputs": [],
   "source": [
    "# Handling NULL values\n",
    "users = users[users['Age'] <= 90]\n",
    "users = users[users['Age'] >= 10]"
   ]
  },
  {
   "cell_type": "code",
   "execution_count": 30,
   "metadata": {
    "id": "GT8d3Ds34Yut"
   },
   "outputs": [],
   "source": [
    "mean = round(users['Age'].mean())"
   ]
  },
  {
   "cell_type": "code",
   "execution_count": 31,
   "metadata": {
    "colab": {
     "base_uri": "https://localhost:8080/"
    },
    "id": "_mcX8vuO4jWU",
    "outputId": "55a92e66-a490-455e-cd80-1e07c61f9fc2"
   },
   "outputs": [
    {
     "data": {
      "text/plain": [
       "35"
      ]
     },
     "execution_count": 31,
     "metadata": {},
     "output_type": "execute_result"
    }
   ],
   "source": [
    "mean"
   ]
  },
  {
   "cell_type": "code",
   "execution_count": 32,
   "metadata": {
    "id": "-t7LadRy4meo"
   },
   "outputs": [],
   "source": [
    "users['Age'] = users['Age'].fillna(mean)"
   ]
  },
  {
   "cell_type": "code",
   "execution_count": 33,
   "metadata": {
    "id": "xQl0ozL06l7I"
   },
   "outputs": [],
   "source": [
    "users['Age'] = users['Age'].astype(int)"
   ]
  },
  {
   "cell_type": "code",
   "execution_count": 34,
   "metadata": {
    "colab": {
     "base_uri": "https://localhost:8080/"
    },
    "id": "LX1Ycic76sfm",
    "outputId": "a78f91b5-927b-4fbc-ae47-ba05858c61c1"
   },
   "outputs": [
    {
     "data": {
      "text/plain": [
       "array([10, 11, 12, 13, 14, 15, 16, 17, 18, 19, 20, 21, 22, 23, 24, 25, 26,\n",
       "       27, 28, 29, 30, 31, 32, 33, 34, 35, 36, 37, 38, 39, 40, 41, 42, 43,\n",
       "       44, 45, 46, 47, 48, 49, 50, 51, 52, 53, 54, 55, 56, 57, 58, 59, 60,\n",
       "       61, 62, 63, 64, 65, 66, 67, 68, 69, 70, 71, 72, 73, 74, 75, 76, 77,\n",
       "       78, 79, 80, 81, 82, 83, 84, 85, 86, 87, 88, 89, 90])"
      ]
     },
     "execution_count": 34,
     "metadata": {},
     "output_type": "execute_result"
    }
   ],
   "source": [
    "users['Age'].sort_values().unique()"
   ]
  },
  {
   "cell_type": "code",
   "execution_count": 35,
   "metadata": {
    "colab": {
     "base_uri": "https://localhost:8080/"
    },
    "id": "YNrUUqwV6vQu",
    "outputId": "ca6905f4-d1da-4aed-df24-e7866c84df88"
   },
   "outputs": [
    {
     "name": "stdout",
     "output_type": "stream",
     "text": [
      "<class 'pandas.core.frame.DataFrame'>\n",
      "Index: 166597 entries, 1 to 278854\n",
      "Data columns (total 3 columns):\n",
      " #   Column    Non-Null Count   Dtype \n",
      "---  ------    --------------   ----- \n",
      " 0   User-ID   166597 non-null  int64 \n",
      " 1   Location  166597 non-null  object\n",
      " 2   Age       166597 non-null  int32 \n",
      "dtypes: int32(1), int64(1), object(1)\n",
      "memory usage: 4.4+ MB\n"
     ]
    }
   ],
   "source": [
    "users.info()"
   ]
  },
  {
   "cell_type": "code",
   "execution_count": 36,
   "metadata": {
    "id": "KN6dOAQm60Yw"
   },
   "outputs": [],
   "source": [
    "users.reset_index(drop = True, inplace = True)"
   ]
  },
  {
   "cell_type": "code",
   "execution_count": 37,
   "metadata": {
    "colab": {
     "base_uri": "https://localhost:8080/",
     "height": 206
    },
    "id": "XoPekz5c7apT",
    "outputId": "250ea8fa-927b-4392-e1a2-23a56ce0020c"
   },
   "outputs": [
    {
     "data": {
      "text/html": [
       "<div>\n",
       "<style scoped>\n",
       "    .dataframe tbody tr th:only-of-type {\n",
       "        vertical-align: middle;\n",
       "    }\n",
       "\n",
       "    .dataframe tbody tr th {\n",
       "        vertical-align: top;\n",
       "    }\n",
       "\n",
       "    .dataframe thead th {\n",
       "        text-align: right;\n",
       "    }\n",
       "</style>\n",
       "<table border=\"1\" class=\"dataframe\">\n",
       "  <thead>\n",
       "    <tr style=\"text-align: right;\">\n",
       "      <th></th>\n",
       "      <th>User-ID</th>\n",
       "      <th>Location</th>\n",
       "      <th>Age</th>\n",
       "    </tr>\n",
       "  </thead>\n",
       "  <tbody>\n",
       "    <tr>\n",
       "      <th>0</th>\n",
       "      <td>2</td>\n",
       "      <td>stockton, california, usa</td>\n",
       "      <td>18</td>\n",
       "    </tr>\n",
       "    <tr>\n",
       "      <th>1</th>\n",
       "      <td>4</td>\n",
       "      <td>porto, v.n.gaia, portugal</td>\n",
       "      <td>17</td>\n",
       "    </tr>\n",
       "    <tr>\n",
       "      <th>2</th>\n",
       "      <td>6</td>\n",
       "      <td>santa monica, california, usa</td>\n",
       "      <td>61</td>\n",
       "    </tr>\n",
       "    <tr>\n",
       "      <th>3</th>\n",
       "      <td>10</td>\n",
       "      <td>albacete, wisconsin, spain</td>\n",
       "      <td>26</td>\n",
       "    </tr>\n",
       "    <tr>\n",
       "      <th>4</th>\n",
       "      <td>11</td>\n",
       "      <td>melbourne, victoria, australia</td>\n",
       "      <td>14</td>\n",
       "    </tr>\n",
       "  </tbody>\n",
       "</table>\n",
       "</div>"
      ],
      "text/plain": [
       "   User-ID                        Location  Age\n",
       "0        2       stockton, california, usa   18\n",
       "1        4       porto, v.n.gaia, portugal   17\n",
       "2        6   santa monica, california, usa   61\n",
       "3       10      albacete, wisconsin, spain   26\n",
       "4       11  melbourne, victoria, australia   14"
      ]
     },
     "execution_count": 37,
     "metadata": {},
     "output_type": "execute_result"
    }
   ],
   "source": [
    "users.head()"
   ]
  },
  {
   "cell_type": "code",
   "execution_count": 38,
   "metadata": {
    "colab": {
     "base_uri": "https://localhost:8080/"
    },
    "id": "l__kOqG-8Zdi",
    "outputId": "a456b6a4-fe02-41e4-871a-86a140b9a0db"
   },
   "outputs": [
    {
     "data": {
      "text/plain": [
       "0"
      ]
     },
     "execution_count": 38,
     "metadata": {},
     "output_type": "execute_result"
    }
   ],
   "source": [
    "# Checking for duplicates\n",
    "users.duplicated().sum()"
   ]
  },
  {
   "cell_type": "markdown",
   "metadata": {},
   "source": [
    "### Visualization (User Dataset)"
   ]
  },
  {
   "cell_type": "code",
   "execution_count": 39,
   "metadata": {},
   "outputs": [
    {
     "name": "stderr",
     "output_type": "stream",
     "text": [
      "C:\\Users\\vighn\\AppData\\Local\\Programs\\Python\\Python311\\Lib\\site-packages\\seaborn\\_oldcore.py:1119: FutureWarning: use_inf_as_na option is deprecated and will be removed in a future version. Convert inf values to NaN before operating instead.\n",
      "  with pd.option_context('mode.use_inf_as_na', True):\n"
     ]
    },
    {
     "data": {
      "image/png": "[encoded data removed]",
      "text/plain": [
       "<Figure size 1000x600 with 1 Axes>"
      ]
     },
     "metadata": {},
     "output_type": "display_data"
    }
   ],
   "source": [
    "# Plot 4: Age distribution\n",
    "\n",
    "plt.figure(figsize = (10,6))\n",
    "sns.histplot(data = users, x = 'Age', bins = 50, color = 'skyblue')\n",
    "plt.title('Age Distribution')\n",
    "plt.xlabel('Age')\n",
    "plt.ylabel('Count')\n",
    "plt.grid(True)\n",
    "plt.tight_layout()\n",
    "plt.show()"
   ]
  },
  {
   "cell_type": "code",
   "execution_count": 40,
   "metadata": {},
   "outputs": [
    {
     "data": {
      "image/png": "[encoded data removed]",
      "text/plain": [
       "<Figure size 1000x600 with 1 Axes>"
      ]
     },
     "metadata": {},
     "output_type": "display_data"
    }
   ],
   "source": [
    "# Plot 5: Top 10 Locations\n",
    "\n",
    "location = users['Location'].value_counts().head(10)\n",
    "\n",
    "plt.figure(figsize = (10,6))\n",
    "sns.barplot(x = location.values, y = location.index, palette = 'viridis')\n",
    "plt.title('Top 10 Locations')\n",
    "plt.xlabel('Count')\n",
    "plt.ylabel('Location')\n",
    "plt.tight_layout()\n",
    "plt.show()"
   ]
  },
  {
   "cell_type": "code",
   "execution_count": null,
   "metadata": {},
   "outputs": [],
   "source": []
  },
  {
   "cell_type": "markdown",
   "metadata": {
    "id": "NaWPMEDy8jZo"
   },
   "source": [
    "### Ratings dataset(EDA)"
   ]
  },
  {
   "cell_type": "code",
   "execution_count": 41,
   "metadata": {
    "colab": {
     "base_uri": "https://localhost:8080/",
     "height": 178
    },
    "id": "YwLtjufM8ods",
    "outputId": "8e1b26fd-d32b-4e3f-8ef7-166f2b90fdaa"
   },
   "outputs": [
    {
     "data": {
      "text/plain": [
       "User-ID        0\n",
       "ISBN           0\n",
       "Book-Rating    0\n",
       "dtype: int64"
      ]
     },
     "execution_count": 41,
     "metadata": {},
     "output_type": "execute_result"
    }
   ],
   "source": [
    "# Checking for NULL values\n",
    "ratings.isna().sum()"
   ]
  },
  {
   "cell_type": "code",
   "execution_count": 42,
   "metadata": {
    "colab": {
     "base_uri": "https://localhost:8080/",
     "height": 178
    },
    "id": "VA6zNE2s87XF",
    "outputId": "c761525f-03fe-459b-9c9b-58b8523b696e"
   },
   "outputs": [
    {
     "data": {
      "text/plain": [
       "User-ID         int64\n",
       "ISBN           object\n",
       "Book-Rating     int64\n",
       "dtype: object"
      ]
     },
     "execution_count": 42,
     "metadata": {},
     "output_type": "execute_result"
    }
   ],
   "source": [
    "ratings.dtypes"
   ]
  },
  {
   "cell_type": "code",
   "execution_count": 43,
   "metadata": {
    "colab": {
     "base_uri": "https://localhost:8080/",
     "height": 206
    },
    "id": "HQmFtXt69CqU",
    "outputId": "282e406c-4eb3-487d-e58c-e7f7350c102c"
   },
   "outputs": [
    {
     "data": {
      "text/html": [
       "<div>\n",
       "<style scoped>\n",
       "    .dataframe tbody tr th:only-of-type {\n",
       "        vertical-align: middle;\n",
       "    }\n",
       "\n",
       "    .dataframe tbody tr th {\n",
       "        vertical-align: top;\n",
       "    }\n",
       "\n",
       "    .dataframe thead th {\n",
       "        text-align: right;\n",
       "    }\n",
       "</style>\n",
       "<table border=\"1\" class=\"dataframe\">\n",
       "  <thead>\n",
       "    <tr style=\"text-align: right;\">\n",
       "      <th></th>\n",
       "      <th>User-ID</th>\n",
       "      <th>ISBN</th>\n",
       "      <th>Book-Rating</th>\n",
       "    </tr>\n",
       "  </thead>\n",
       "  <tbody>\n",
       "    <tr>\n",
       "      <th>0</th>\n",
       "      <td>276725</td>\n",
       "      <td>034545104X</td>\n",
       "      <td>0</td>\n",
       "    </tr>\n",
       "    <tr>\n",
       "      <th>1</th>\n",
       "      <td>276726</td>\n",
       "      <td>0155061224</td>\n",
       "      <td>5</td>\n",
       "    </tr>\n",
       "    <tr>\n",
       "      <th>2</th>\n",
       "      <td>276727</td>\n",
       "      <td>0446520802</td>\n",
       "      <td>0</td>\n",
       "    </tr>\n",
       "    <tr>\n",
       "      <th>3</th>\n",
       "      <td>276729</td>\n",
       "      <td>052165615X</td>\n",
       "      <td>3</td>\n",
       "    </tr>\n",
       "    <tr>\n",
       "      <th>4</th>\n",
       "      <td>276729</td>\n",
       "      <td>0521795028</td>\n",
       "      <td>6</td>\n",
       "    </tr>\n",
       "  </tbody>\n",
       "</table>\n",
       "</div>"
      ],
      "text/plain": [
       "   User-ID        ISBN  Book-Rating\n",
       "0   276725  034545104X            0\n",
       "1   276726  0155061224            5\n",
       "2   276727  0446520802            0\n",
       "3   276729  052165615X            3\n",
       "4   276729  0521795028            6"
      ]
     },
     "execution_count": 43,
     "metadata": {},
     "output_type": "execute_result"
    }
   ],
   "source": [
    "ratings.head()"
   ]
  },
  {
   "cell_type": "code",
   "execution_count": 44,
   "metadata": {
    "id": "rC4Ep5cH-jNL"
   },
   "outputs": [],
   "source": [
    "# Selecting books whose ratings are not zero\n",
    "ratings = ratings[ratings['Book-Rating'] != 0]"
   ]
  },
  {
   "cell_type": "code",
   "execution_count": 45,
   "metadata": {
    "id": "caRH_oxZC0iT"
   },
   "outputs": [],
   "source": [
    "ratings.reset_index(drop = True, inplace = True)"
   ]
  },
  {
   "cell_type": "code",
   "execution_count": 46,
   "metadata": {
    "colab": {
     "base_uri": "https://localhost:8080/",
     "height": 206
    },
    "id": "B9mYbyqrC3-U",
    "outputId": "66bbb9a4-e08d-4ae5-ca68-dc9975c87326"
   },
   "outputs": [
    {
     "data": {
      "text/html": [
       "<div>\n",
       "<style scoped>\n",
       "    .dataframe tbody tr th:only-of-type {\n",
       "        vertical-align: middle;\n",
       "    }\n",
       "\n",
       "    .dataframe tbody tr th {\n",
       "        vertical-align: top;\n",
       "    }\n",
       "\n",
       "    .dataframe thead th {\n",
       "        text-align: right;\n",
       "    }\n",
       "</style>\n",
       "<table border=\"1\" class=\"dataframe\">\n",
       "  <thead>\n",
       "    <tr style=\"text-align: right;\">\n",
       "      <th></th>\n",
       "      <th>User-ID</th>\n",
       "      <th>ISBN</th>\n",
       "      <th>Book-Rating</th>\n",
       "    </tr>\n",
       "  </thead>\n",
       "  <tbody>\n",
       "    <tr>\n",
       "      <th>0</th>\n",
       "      <td>276726</td>\n",
       "      <td>0155061224</td>\n",
       "      <td>5</td>\n",
       "    </tr>\n",
       "    <tr>\n",
       "      <th>1</th>\n",
       "      <td>276729</td>\n",
       "      <td>052165615X</td>\n",
       "      <td>3</td>\n",
       "    </tr>\n",
       "    <tr>\n",
       "      <th>2</th>\n",
       "      <td>276729</td>\n",
       "      <td>0521795028</td>\n",
       "      <td>6</td>\n",
       "    </tr>\n",
       "    <tr>\n",
       "      <th>3</th>\n",
       "      <td>276736</td>\n",
       "      <td>3257224281</td>\n",
       "      <td>8</td>\n",
       "    </tr>\n",
       "    <tr>\n",
       "      <th>4</th>\n",
       "      <td>276737</td>\n",
       "      <td>0600570967</td>\n",
       "      <td>6</td>\n",
       "    </tr>\n",
       "  </tbody>\n",
       "</table>\n",
       "</div>"
      ],
      "text/plain": [
       "   User-ID        ISBN  Book-Rating\n",
       "0   276726  0155061224            5\n",
       "1   276729  052165615X            3\n",
       "2   276729  0521795028            6\n",
       "3   276736  3257224281            8\n",
       "4   276737  0600570967            6"
      ]
     },
     "execution_count": 46,
     "metadata": {},
     "output_type": "execute_result"
    }
   ],
   "source": [
    "ratings.head()"
   ]
  },
  {
   "cell_type": "markdown",
   "metadata": {},
   "source": [
    "### Visualiztion (Ratings Dataset) "
   ]
  },
  {
   "cell_type": "code",
   "execution_count": 47,
   "metadata": {},
   "outputs": [
    {
     "data": {
      "image/png": "[encoded data removed]",
      "text/plain": [
       "<Figure size 1000x600 with 1 Axes>"
      ]
     },
     "metadata": {},
     "output_type": "display_data"
    }
   ],
   "source": [
    "# Plot 6: Distribution of Ratings\n",
    "\n",
    "top_rating = ratings['Book-Rating'].value_counts().head(10).sort_index()\n",
    "plt.figure(figsize = (10, 6))\n",
    "sns.barplot(x = top_rating.index, y = top_rating.values, palette = 'magma')\n",
    "plt.title('Distribution of Ratings')\n",
    "plt.xlabel('Publisher')\n",
    "plt.ylabel('Count')\n",
    "plt.tight_layout()\n",
    "plt.grid(True)\n",
    "plt.show()"
   ]
  },
  {
   "cell_type": "code",
   "execution_count": 48,
   "metadata": {},
   "outputs": [
    {
     "name": "stdout",
     "output_type": "stream",
     "text": [
      "Book-Title\n",
      "The Lovely Bones: A Novel                             707\n",
      "Wild Animus                                           581\n",
      "The Da Vinci Code                                     487\n",
      "The Red Tent (Bestselling Backlist)                   383\n",
      "Divine Secrets of the Ya-Ya Sisterhood: A Novel       320\n",
      "Life of Pi                                            320\n",
      "The Secret Life of Bees                               307\n",
      "Angels &amp; Demons                                   302\n",
      "Where the Heart Is (Oprah's Book Club (Paperback))    295\n",
      "A Painted House                                       281\n",
      "Name: count, dtype: int64\n"
     ]
    }
   ],
   "source": [
    "# Merge ratings with books on ISBN\n",
    "merged_df = ratings.merge(books, on='ISBN')\n",
    "\n",
    "# Filter out 0 ratings (they represent implicit interactions)\n",
    "merged_df = merged_df[merged_df['Book-Rating'] > 0]\n",
    "\n",
    "# Count number of ratings per book\n",
    "top_books = merged_df['Book-Title'].value_counts().head(10)\n",
    "\n",
    "# Display result\n",
    "print(top_books)"
   ]
  },
  {
   "cell_type": "code",
   "execution_count": 49,
   "metadata": {},
   "outputs": [
    {
     "data": {
      "image/png": "[encoded data removed]",
      "text/plain": [
       "<Figure size 1000x600 with 1 Axes>"
      ]
     },
     "metadata": {},
     "output_type": "display_data"
    }
   ],
   "source": [
    "# Plot 6: Distribution of Ratings\n",
    "\n",
    "plt.figure(figsize = (10, 6))\n",
    "sns.barplot(x = top_books.values, y = top_books.index, palette = 'viridis')\n",
    "plt.title('Top 10 Rated books')\n",
    "plt.xlabel('Count')\n",
    "plt.ylabel('Publisher')\n",
    "plt.tight_layout()\n",
    "plt.grid(True)\n",
    "plt.show()"
   ]
  },
  {
   "cell_type": "markdown",
   "metadata": {
    "id": "CpIO9eApiHSE"
   },
   "source": [
    "### Popularity Based Filtering"
   ]
  },
  {
   "cell_type": "code",
   "execution_count": 50,
   "metadata": {
    "id": "DS4Dic2tiBLb"
   },
   "outputs": [],
   "source": [
    "ratings_with_books = ratings.merge(books,on='ISBN')"
   ]
  },
  {
   "cell_type": "code",
   "execution_count": 51,
   "metadata": {
    "colab": {
     "base_uri": "https://localhost:8080/",
     "height": 397
    },
    "id": "jzClvVjeF1H5",
    "outputId": "f21bb546-a576-4304-a81a-efd0c989f4aa"
   },
   "outputs": [
    {
     "data": {
      "text/plain": [
       "User-ID                0\n",
       "ISBN                   0\n",
       "Book-Rating            0\n",
       "Book-Title             0\n",
       "Book-Author            0\n",
       "Year-Of-Publication    0\n",
       "Publisher              0\n",
       "Image-URL-S            0\n",
       "Image-URL-M            0\n",
       "Image-URL-L            0\n",
       "dtype: int64"
      ]
     },
     "execution_count": 51,
     "metadata": {},
     "output_type": "execute_result"
    }
   ],
   "source": [
    "ratings_with_books.isna().sum()"
   ]
  },
  {
   "cell_type": "code",
   "execution_count": 52,
   "metadata": {
    "colab": {
     "base_uri": "https://localhost:8080/",
     "height": 423
    },
    "id": "6JjZZf6EiZE4",
    "outputId": "ea11018a-1125-4f0b-986d-fb84f2900f03"
   },
   "outputs": [
    {
     "data": {
      "text/html": [
       "<div>\n",
       "<style scoped>\n",
       "    .dataframe tbody tr th:only-of-type {\n",
       "        vertical-align: middle;\n",
       "    }\n",
       "\n",
       "    .dataframe tbody tr th {\n",
       "        vertical-align: top;\n",
       "    }\n",
       "\n",
       "    .dataframe thead th {\n",
       "        text-align: right;\n",
       "    }\n",
       "</style>\n",
       "<table border=\"1\" class=\"dataframe\">\n",
       "  <thead>\n",
       "    <tr style=\"text-align: right;\">\n",
       "      <th></th>\n",
       "      <th>Book-Title</th>\n",
       "      <th>num_ratings</th>\n",
       "    </tr>\n",
       "  </thead>\n",
       "  <tbody>\n",
       "    <tr>\n",
       "      <th>0</th>\n",
       "      <td>101 Dalmatians</td>\n",
       "      <td>6</td>\n",
       "    </tr>\n",
       "    <tr>\n",
       "      <th>1</th>\n",
       "      <td>14,000 Things to Be Happy About</td>\n",
       "      <td>15</td>\n",
       "    </tr>\n",
       "    <tr>\n",
       "      <th>2</th>\n",
       "      <td>1st to Die: A Novel</td>\n",
       "      <td>177</td>\n",
       "    </tr>\n",
       "    <tr>\n",
       "      <th>3</th>\n",
       "      <td>20,000 Leagues Under the Sea (Wordsworth Colle...</td>\n",
       "      <td>8</td>\n",
       "    </tr>\n",
       "    <tr>\n",
       "      <th>4</th>\n",
       "      <td>2061: Odyssey Three</td>\n",
       "      <td>18</td>\n",
       "    </tr>\n",
       "    <tr>\n",
       "      <th>...</th>\n",
       "      <td>...</td>\n",
       "      <td>...</td>\n",
       "    </tr>\n",
       "    <tr>\n",
       "      <th>1662</th>\n",
       "      <td>You Can Surf the Net: Your Guide to the World ...</td>\n",
       "      <td>1</td>\n",
       "    </tr>\n",
       "    <tr>\n",
       "      <th>1663</th>\n",
       "      <td>You Cannot Be Serious</td>\n",
       "      <td>7</td>\n",
       "    </tr>\n",
       "    <tr>\n",
       "      <th>1664</th>\n",
       "      <td>Your Blues Ain't Like Mine</td>\n",
       "      <td>6</td>\n",
       "    </tr>\n",
       "    <tr>\n",
       "      <th>1665</th>\n",
       "      <td>Zeit im Wind.</td>\n",
       "      <td>6</td>\n",
       "    </tr>\n",
       "    <tr>\n",
       "      <th>1666</th>\n",
       "      <td>stardust</td>\n",
       "      <td>26</td>\n",
       "    </tr>\n",
       "  </tbody>\n",
       "</table>\n",
       "<p>1667 rows × 2 columns</p>\n",
       "</div>"
      ],
      "text/plain": [
       "                                             Book-Title  num_ratings\n",
       "0                                        101 Dalmatians            6\n",
       "1                       14,000 Things to Be Happy About           15\n",
       "2                                   1st to Die: A Novel          177\n",
       "3     20,000 Leagues Under the Sea (Wordsworth Colle...            8\n",
       "4                                   2061: Odyssey Three           18\n",
       "...                                                 ...          ...\n",
       "1662  You Can Surf the Net: Your Guide to the World ...            1\n",
       "1663                              You Cannot Be Serious            7\n",
       "1664                         Your Blues Ain't Like Mine            6\n",
       "1665                                      Zeit im Wind.            6\n",
       "1666                                           stardust           26\n",
       "\n",
       "[1667 rows x 2 columns]"
      ]
     },
     "execution_count": 52,
     "metadata": {},
     "output_type": "execute_result"
    }
   ],
   "source": [
    "num_rating = ratings_with_books.groupby('Book-Title')['Book-Rating'].count().reset_index()\n",
    "num_rating.rename(columns={'Book-Rating':'num_ratings'}, inplace = True)\n",
    "num_rating"
   ]
  },
  {
   "cell_type": "code",
   "execution_count": 53,
   "metadata": {
    "colab": {
     "base_uri": "https://localhost:8080/",
     "height": 423
    },
    "id": "6ZH6W1jsMq6z",
    "outputId": "958bdce5-cdfe-4808-e435-82d55997ffa4"
   },
   "outputs": [
    {
     "data": {
      "text/html": [
       "<div>\n",
       "<style scoped>\n",
       "    .dataframe tbody tr th:only-of-type {\n",
       "        vertical-align: middle;\n",
       "    }\n",
       "\n",
       "    .dataframe tbody tr th {\n",
       "        vertical-align: top;\n",
       "    }\n",
       "\n",
       "    .dataframe thead th {\n",
       "        text-align: right;\n",
       "    }\n",
       "</style>\n",
       "<table border=\"1\" class=\"dataframe\">\n",
       "  <thead>\n",
       "    <tr style=\"text-align: right;\">\n",
       "      <th></th>\n",
       "      <th>Book-Title</th>\n",
       "      <th>num_ratings</th>\n",
       "    </tr>\n",
       "  </thead>\n",
       "  <tbody>\n",
       "    <tr>\n",
       "      <th>2</th>\n",
       "      <td>1st to Die: A Novel</td>\n",
       "      <td>177</td>\n",
       "    </tr>\n",
       "    <tr>\n",
       "      <th>5</th>\n",
       "      <td>2nd Chance</td>\n",
       "      <td>59</td>\n",
       "    </tr>\n",
       "    <tr>\n",
       "      <th>16</th>\n",
       "      <td>A Heartbreaking Work of Staggering Genius</td>\n",
       "      <td>144</td>\n",
       "    </tr>\n",
       "    <tr>\n",
       "      <th>20</th>\n",
       "      <td>A Lesson Before Dying (Vintage Contemporaries ...</td>\n",
       "      <td>83</td>\n",
       "    </tr>\n",
       "    <tr>\n",
       "      <th>29</th>\n",
       "      <td>A Painted House</td>\n",
       "      <td>281</td>\n",
       "    </tr>\n",
       "    <tr>\n",
       "      <th>...</th>\n",
       "      <td>...</td>\n",
       "      <td>...</td>\n",
       "    </tr>\n",
       "    <tr>\n",
       "      <th>1626</th>\n",
       "      <td>While I Was Gone</td>\n",
       "      <td>138</td>\n",
       "    </tr>\n",
       "    <tr>\n",
       "      <th>1633</th>\n",
       "      <td>White Oleander : A Novel</td>\n",
       "      <td>52</td>\n",
       "    </tr>\n",
       "    <tr>\n",
       "      <th>1635</th>\n",
       "      <td>Who Moved My Cheese? An Amazing Way to Deal wi...</td>\n",
       "      <td>90</td>\n",
       "    </tr>\n",
       "    <tr>\n",
       "      <th>1638</th>\n",
       "      <td>Wicked: The Life and Times of the Wicked Witch...</td>\n",
       "      <td>156</td>\n",
       "    </tr>\n",
       "    <tr>\n",
       "      <th>1640</th>\n",
       "      <td>Wild Animus</td>\n",
       "      <td>581</td>\n",
       "    </tr>\n",
       "  </tbody>\n",
       "</table>\n",
       "<p>206 rows × 2 columns</p>\n",
       "</div>"
      ],
      "text/plain": [
       "                                             Book-Title  num_ratings\n",
       "2                                   1st to Die: A Novel          177\n",
       "5                                            2nd Chance           59\n",
       "16            A Heartbreaking Work of Staggering Genius          144\n",
       "20    A Lesson Before Dying (Vintage Contemporaries ...           83\n",
       "29                                      A Painted House          281\n",
       "...                                                 ...          ...\n",
       "1626                                   While I Was Gone          138\n",
       "1633                           White Oleander : A Novel           52\n",
       "1635  Who Moved My Cheese? An Amazing Way to Deal wi...           90\n",
       "1638  Wicked: The Life and Times of the Wicked Witch...          156\n",
       "1640                                        Wild Animus          581\n",
       "\n",
       "[206 rows x 2 columns]"
      ]
     },
     "execution_count": 53,
     "metadata": {},
     "output_type": "execute_result"
    }
   ],
   "source": [
    "num_rating[num_rating['num_ratings']>50]"
   ]
  },
  {
   "cell_type": "code",
   "execution_count": 54,
   "metadata": {
    "colab": {
     "base_uri": "https://localhost:8080/",
     "height": 423
    },
    "id": "6wzV28-cCwXc",
    "outputId": "ee495e41-346c-4a26-93bb-e778f972aa2c"
   },
   "outputs": [
    {
     "data": {
      "text/html": [
       "<div>\n",
       "<style scoped>\n",
       "    .dataframe tbody tr th:only-of-type {\n",
       "        vertical-align: middle;\n",
       "    }\n",
       "\n",
       "    .dataframe tbody tr th {\n",
       "        vertical-align: top;\n",
       "    }\n",
       "\n",
       "    .dataframe thead th {\n",
       "        text-align: right;\n",
       "    }\n",
       "</style>\n",
       "<table border=\"1\" class=\"dataframe\">\n",
       "  <thead>\n",
       "    <tr style=\"text-align: right;\">\n",
       "      <th></th>\n",
       "      <th>Book-Title</th>\n",
       "      <th>avg_rating</th>\n",
       "    </tr>\n",
       "  </thead>\n",
       "  <tbody>\n",
       "    <tr>\n",
       "      <th>0</th>\n",
       "      <td>101 Dalmatians</td>\n",
       "      <td>9.333333</td>\n",
       "    </tr>\n",
       "    <tr>\n",
       "      <th>1</th>\n",
       "      <td>14,000 Things to Be Happy About</td>\n",
       "      <td>7.200000</td>\n",
       "    </tr>\n",
       "    <tr>\n",
       "      <th>2</th>\n",
       "      <td>1st to Die: A Novel</td>\n",
       "      <td>7.728814</td>\n",
       "    </tr>\n",
       "    <tr>\n",
       "      <th>3</th>\n",
       "      <td>20,000 Leagues Under the Sea (Wordsworth Colle...</td>\n",
       "      <td>6.875000</td>\n",
       "    </tr>\n",
       "    <tr>\n",
       "      <th>4</th>\n",
       "      <td>2061: Odyssey Three</td>\n",
       "      <td>7.666667</td>\n",
       "    </tr>\n",
       "    <tr>\n",
       "      <th>...</th>\n",
       "      <td>...</td>\n",
       "      <td>...</td>\n",
       "    </tr>\n",
       "    <tr>\n",
       "      <th>1662</th>\n",
       "      <td>You Can Surf the Net: Your Guide to the World ...</td>\n",
       "      <td>5.000000</td>\n",
       "    </tr>\n",
       "    <tr>\n",
       "      <th>1663</th>\n",
       "      <td>You Cannot Be Serious</td>\n",
       "      <td>7.142857</td>\n",
       "    </tr>\n",
       "    <tr>\n",
       "      <th>1664</th>\n",
       "      <td>Your Blues Ain't Like Mine</td>\n",
       "      <td>6.333333</td>\n",
       "    </tr>\n",
       "    <tr>\n",
       "      <th>1665</th>\n",
       "      <td>Zeit im Wind.</td>\n",
       "      <td>7.000000</td>\n",
       "    </tr>\n",
       "    <tr>\n",
       "      <th>1666</th>\n",
       "      <td>stardust</td>\n",
       "      <td>8.115385</td>\n",
       "    </tr>\n",
       "  </tbody>\n",
       "</table>\n",
       "<p>1667 rows × 2 columns</p>\n",
       "</div>"
      ],
      "text/plain": [
       "                                             Book-Title  avg_rating\n",
       "0                                        101 Dalmatians    9.333333\n",
       "1                       14,000 Things to Be Happy About    7.200000\n",
       "2                                   1st to Die: A Novel    7.728814\n",
       "3     20,000 Leagues Under the Sea (Wordsworth Colle...    6.875000\n",
       "4                                   2061: Odyssey Three    7.666667\n",
       "...                                                 ...         ...\n",
       "1662  You Can Surf the Net: Your Guide to the World ...    5.000000\n",
       "1663                              You Cannot Be Serious    7.142857\n",
       "1664                         Your Blues Ain't Like Mine    6.333333\n",
       "1665                                      Zeit im Wind.    7.000000\n",
       "1666                                           stardust    8.115385\n",
       "\n",
       "[1667 rows x 2 columns]"
      ]
     },
     "execution_count": 54,
     "metadata": {},
     "output_type": "execute_result"
    }
   ],
   "source": [
    "avg_rating = ratings_with_books.groupby('Book-Title')['Book-Rating'].mean().reset_index()\n",
    "avg_rating.rename(columns={'Book-Rating':'avg_rating'}, inplace = True)\n",
    "avg_rating"
   ]
  },
  {
   "cell_type": "code",
   "execution_count": 55,
   "metadata": {
    "colab": {
     "base_uri": "https://localhost:8080/",
     "height": 423
    },
    "id": "scs48YzxC_wz",
    "outputId": "c95d87b6-bd2f-488c-a959-cbf93715c57e"
   },
   "outputs": [
    {
     "data": {
      "text/html": [
       "<div>\n",
       "<style scoped>\n",
       "    .dataframe tbody tr th:only-of-type {\n",
       "        vertical-align: middle;\n",
       "    }\n",
       "\n",
       "    .dataframe tbody tr th {\n",
       "        vertical-align: top;\n",
       "    }\n",
       "\n",
       "    .dataframe thead th {\n",
       "        text-align: right;\n",
       "    }\n",
       "</style>\n",
       "<table border=\"1\" class=\"dataframe\">\n",
       "  <thead>\n",
       "    <tr style=\"text-align: right;\">\n",
       "      <th></th>\n",
       "      <th>Book-Title</th>\n",
       "      <th>num_ratings</th>\n",
       "      <th>avg_rating</th>\n",
       "    </tr>\n",
       "  </thead>\n",
       "  <tbody>\n",
       "    <tr>\n",
       "      <th>0</th>\n",
       "      <td>101 Dalmatians</td>\n",
       "      <td>6</td>\n",
       "      <td>9.333333</td>\n",
       "    </tr>\n",
       "    <tr>\n",
       "      <th>1</th>\n",
       "      <td>14,000 Things to Be Happy About</td>\n",
       "      <td>15</td>\n",
       "      <td>7.200000</td>\n",
       "    </tr>\n",
       "    <tr>\n",
       "      <th>2</th>\n",
       "      <td>1st to Die: A Novel</td>\n",
       "      <td>177</td>\n",
       "      <td>7.728814</td>\n",
       "    </tr>\n",
       "    <tr>\n",
       "      <th>3</th>\n",
       "      <td>20,000 Leagues Under the Sea (Wordsworth Colle...</td>\n",
       "      <td>8</td>\n",
       "      <td>6.875000</td>\n",
       "    </tr>\n",
       "    <tr>\n",
       "      <th>4</th>\n",
       "      <td>2061: Odyssey Three</td>\n",
       "      <td>18</td>\n",
       "      <td>7.666667</td>\n",
       "    </tr>\n",
       "    <tr>\n",
       "      <th>...</th>\n",
       "      <td>...</td>\n",
       "      <td>...</td>\n",
       "      <td>...</td>\n",
       "    </tr>\n",
       "    <tr>\n",
       "      <th>1662</th>\n",
       "      <td>You Can Surf the Net: Your Guide to the World ...</td>\n",
       "      <td>1</td>\n",
       "      <td>5.000000</td>\n",
       "    </tr>\n",
       "    <tr>\n",
       "      <th>1663</th>\n",
       "      <td>You Cannot Be Serious</td>\n",
       "      <td>7</td>\n",
       "      <td>7.142857</td>\n",
       "    </tr>\n",
       "    <tr>\n",
       "      <th>1664</th>\n",
       "      <td>Your Blues Ain't Like Mine</td>\n",
       "      <td>6</td>\n",
       "      <td>6.333333</td>\n",
       "    </tr>\n",
       "    <tr>\n",
       "      <th>1665</th>\n",
       "      <td>Zeit im Wind.</td>\n",
       "      <td>6</td>\n",
       "      <td>7.000000</td>\n",
       "    </tr>\n",
       "    <tr>\n",
       "      <th>1666</th>\n",
       "      <td>stardust</td>\n",
       "      <td>26</td>\n",
       "      <td>8.115385</td>\n",
       "    </tr>\n",
       "  </tbody>\n",
       "</table>\n",
       "<p>1667 rows × 3 columns</p>\n",
       "</div>"
      ],
      "text/plain": [
       "                                             Book-Title  num_ratings  \\\n",
       "0                                        101 Dalmatians            6   \n",
       "1                       14,000 Things to Be Happy About           15   \n",
       "2                                   1st to Die: A Novel          177   \n",
       "3     20,000 Leagues Under the Sea (Wordsworth Colle...            8   \n",
       "4                                   2061: Odyssey Three           18   \n",
       "...                                                 ...          ...   \n",
       "1662  You Can Surf the Net: Your Guide to the World ...            1   \n",
       "1663                              You Cannot Be Serious            7   \n",
       "1664                         Your Blues Ain't Like Mine            6   \n",
       "1665                                      Zeit im Wind.            6   \n",
       "1666                                           stardust           26   \n",
       "\n",
       "      avg_rating  \n",
       "0       9.333333  \n",
       "1       7.200000  \n",
       "2       7.728814  \n",
       "3       6.875000  \n",
       "4       7.666667  \n",
       "...          ...  \n",
       "1662    5.000000  \n",
       "1663    7.142857  \n",
       "1664    6.333333  \n",
       "1665    7.000000  \n",
       "1666    8.115385  \n",
       "\n",
       "[1667 rows x 3 columns]"
      ]
     },
     "execution_count": 55,
     "metadata": {},
     "output_type": "execute_result"
    }
   ],
   "source": [
    "popular = num_rating.merge(avg_rating,on='Book-Title')\n",
    "popular"
   ]
  },
  {
   "cell_type": "code",
   "execution_count": 56,
   "metadata": {
    "id": "byVsJcZKLNBW"
   },
   "outputs": [],
   "source": [
    "popular = popular[popular['num_ratings']>=50].sort_values('avg_rating',ascending=False).head(50)"
   ]
  },
  {
   "cell_type": "code",
   "execution_count": 57,
   "metadata": {
    "id": "9yrwKyVhLg5k"
   },
   "outputs": [],
   "source": [
    "popular = popular.merge(books,on='Book-Title').drop_duplicates('Book-Title')[['Book-Title','Book-Author','Image-URL-M','num_ratings','avg_rating']]"
   ]
  },
  {
   "cell_type": "code",
   "execution_count": 58,
   "metadata": {
    "colab": {
     "base_uri": "https://localhost:8080/",
     "height": 1000
    },
    "id": "3lxGAKuJLyqi",
    "outputId": "cb3e0c0e-bce7-4f00-a525-45085d94748b"
   },
   "outputs": [
    {
     "data": {
      "text/html": [
       "<div>\n",
       "<style scoped>\n",
       "    .dataframe tbody tr th:only-of-type {\n",
       "        vertical-align: middle;\n",
       "    }\n",
       "\n",
       "    .dataframe tbody tr th {\n",
       "        vertical-align: top;\n",
       "    }\n",
       "\n",
       "    .dataframe thead th {\n",
       "        text-align: right;\n",
       "    }\n",
       "</style>\n",
       "<table border=\"1\" class=\"dataframe\">\n",
       "  <thead>\n",
       "    <tr style=\"text-align: right;\">\n",
       "      <th></th>\n",
       "      <th>Book-Title</th>\n",
       "      <th>Book-Author</th>\n",
       "      <th>Image-URL-M</th>\n",
       "      <th>num_ratings</th>\n",
       "      <th>avg_rating</th>\n",
       "    </tr>\n",
       "  </thead>\n",
       "  <tbody>\n",
       "    <tr>\n",
       "      <th>0</th>\n",
       "      <td>The Two Towers (The Lord of the Rings, Part 2)</td>\n",
       "      <td>J.R.R. TOLKIEN</td>\n",
       "      <td>http://images.amazon.com/images/P/0345339711.0...</td>\n",
       "      <td>83</td>\n",
       "      <td>9.120482</td>\n",
       "    </tr>\n",
       "    <tr>\n",
       "      <th>1</th>\n",
       "      <td>The Little Prince</td>\n",
       "      <td>Antoine de Saint-ExupÃ©ry</td>\n",
       "      <td>http://images.amazon.com/images/P/0156528207.0...</td>\n",
       "      <td>51</td>\n",
       "      <td>8.980392</td>\n",
       "    </tr>\n",
       "    <tr>\n",
       "      <th>2</th>\n",
       "      <td>To Kill a Mockingbird</td>\n",
       "      <td>Harper Lee</td>\n",
       "      <td>http://images.amazon.com/images/P/0446310786.0...</td>\n",
       "      <td>230</td>\n",
       "      <td>8.960870</td>\n",
       "    </tr>\n",
       "    <tr>\n",
       "      <th>4</th>\n",
       "      <td>Anne of Green Gables (Anne of Green Gables Nov...</td>\n",
       "      <td>L.M. MONTGOMERY</td>\n",
       "      <td>http://images.amazon.com/images/P/055321313X.0...</td>\n",
       "      <td>53</td>\n",
       "      <td>8.905660</td>\n",
       "    </tr>\n",
       "    <tr>\n",
       "      <th>5</th>\n",
       "      <td>The Fellowship of the Ring (The Lord of the Ri...</td>\n",
       "      <td>J.R.R. TOLKIEN</td>\n",
       "      <td>http://images.amazon.com/images/P/0345339703.0...</td>\n",
       "      <td>131</td>\n",
       "      <td>8.839695</td>\n",
       "    </tr>\n",
       "    <tr>\n",
       "      <th>6</th>\n",
       "      <td>The Princess Bride: S Morgenstern's Classic Ta...</td>\n",
       "      <td>WILLIAM GOLDMAN</td>\n",
       "      <td>http://images.amazon.com/images/P/0345348036.0...</td>\n",
       "      <td>74</td>\n",
       "      <td>8.837838</td>\n",
       "    </tr>\n",
       "    <tr>\n",
       "      <th>7</th>\n",
       "      <td>Lamb : The Gospel According to Biff, Christ's ...</td>\n",
       "      <td>Christopher Moore</td>\n",
       "      <td>http://images.amazon.com/images/P/0380813815.0...</td>\n",
       "      <td>61</td>\n",
       "      <td>8.786885</td>\n",
       "    </tr>\n",
       "    <tr>\n",
       "      <th>8</th>\n",
       "      <td>Anne Frank: The Diary of a Young Girl</td>\n",
       "      <td>ANNE FRANK</td>\n",
       "      <td>http://images.amazon.com/images/P/0553296981.0...</td>\n",
       "      <td>77</td>\n",
       "      <td>8.701299</td>\n",
       "    </tr>\n",
       "    <tr>\n",
       "      <th>9</th>\n",
       "      <td>The Subtle Knife (His Dark Materials, Book 2)</td>\n",
       "      <td>PHILIP PULLMAN</td>\n",
       "      <td>http://images.amazon.com/images/P/0375823468.0...</td>\n",
       "      <td>69</td>\n",
       "      <td>8.666667</td>\n",
       "    </tr>\n",
       "    <tr>\n",
       "      <th>12</th>\n",
       "      <td>The Giver (21st Century Reference)</td>\n",
       "      <td>LOIS LOWRY</td>\n",
       "      <td>http://images.amazon.com/images/P/0440219078.0...</td>\n",
       "      <td>101</td>\n",
       "      <td>8.663366</td>\n",
       "    </tr>\n",
       "    <tr>\n",
       "      <th>13</th>\n",
       "      <td>Lies and the Lying Liars Who Tell Them: A Fair...</td>\n",
       "      <td>Al Franken</td>\n",
       "      <td>http://images.amazon.com/images/P/0525947647.0...</td>\n",
       "      <td>65</td>\n",
       "      <td>8.615385</td>\n",
       "    </tr>\n",
       "    <tr>\n",
       "      <th>14</th>\n",
       "      <td>A Prayer for Owen Meany</td>\n",
       "      <td>John Irving</td>\n",
       "      <td>http://images.amazon.com/images/P/0345361792.0...</td>\n",
       "      <td>181</td>\n",
       "      <td>8.607735</td>\n",
       "    </tr>\n",
       "    <tr>\n",
       "      <th>15</th>\n",
       "      <td>Fried Green Tomatoes at the Whistle Stop Cafe</td>\n",
       "      <td>Fannie Flagg</td>\n",
       "      <td>http://images.amazon.com/images/P/0070212570.0...</td>\n",
       "      <td>86</td>\n",
       "      <td>8.593023</td>\n",
       "    </tr>\n",
       "    <tr>\n",
       "      <th>16</th>\n",
       "      <td>The Phantom Tollbooth</td>\n",
       "      <td>Norton Juster</td>\n",
       "      <td>http://images.amazon.com/images/P/0394820371.0...</td>\n",
       "      <td>58</td>\n",
       "      <td>8.551724</td>\n",
       "    </tr>\n",
       "    <tr>\n",
       "      <th>17</th>\n",
       "      <td>The Bean Trees</td>\n",
       "      <td>Barbara Kingsolver</td>\n",
       "      <td>http://images.amazon.com/images/P/0060915544.0...</td>\n",
       "      <td>117</td>\n",
       "      <td>8.521368</td>\n",
       "    </tr>\n",
       "    <tr>\n",
       "      <th>18</th>\n",
       "      <td>Four Blind Mice</td>\n",
       "      <td>James Patterson</td>\n",
       "      <td>http://images.amazon.com/images/P/0316693006.0...</td>\n",
       "      <td>59</td>\n",
       "      <td>8.508475</td>\n",
       "    </tr>\n",
       "    <tr>\n",
       "      <th>19</th>\n",
       "      <td>Fight Club</td>\n",
       "      <td>Chuck Palahniuk</td>\n",
       "      <td>http://images.amazon.com/images/P/0805062971.0...</td>\n",
       "      <td>50</td>\n",
       "      <td>8.500000</td>\n",
       "    </tr>\n",
       "    <tr>\n",
       "      <th>20</th>\n",
       "      <td>One Hundred Years of Solitude</td>\n",
       "      <td>Gabriel Garcia Marquez</td>\n",
       "      <td>http://images.amazon.com/images/P/0060929790.0...</td>\n",
       "      <td>62</td>\n",
       "      <td>8.500000</td>\n",
       "    </tr>\n",
       "    <tr>\n",
       "      <th>22</th>\n",
       "      <td>The Handmaid's Tale</td>\n",
       "      <td>Margaret Atwood</td>\n",
       "      <td>http://images.amazon.com/images/P/0449212602.0...</td>\n",
       "      <td>111</td>\n",
       "      <td>8.495495</td>\n",
       "    </tr>\n",
       "    <tr>\n",
       "      <th>23</th>\n",
       "      <td>The Stand: Complete and Uncut</td>\n",
       "      <td>Stephen King</td>\n",
       "      <td>http://images.amazon.com/images/P/0451169530.0...</td>\n",
       "      <td>70</td>\n",
       "      <td>8.485714</td>\n",
       "    </tr>\n",
       "    <tr>\n",
       "      <th>24</th>\n",
       "      <td>Seabiscuit: An American Legend</td>\n",
       "      <td>LAURA HILLENBRAND</td>\n",
       "      <td>http://images.amazon.com/images/P/0449005615.0...</td>\n",
       "      <td>120</td>\n",
       "      <td>8.483333</td>\n",
       "    </tr>\n",
       "    <tr>\n",
       "      <th>25</th>\n",
       "      <td>Dragonfly in Amber</td>\n",
       "      <td>DIANA GABALDON</td>\n",
       "      <td>http://images.amazon.com/images/P/0440215625.0...</td>\n",
       "      <td>70</td>\n",
       "      <td>8.471429</td>\n",
       "    </tr>\n",
       "    <tr>\n",
       "      <th>26</th>\n",
       "      <td>The Secret Life of Bees</td>\n",
       "      <td>Sue Monk Kidd</td>\n",
       "      <td>http://images.amazon.com/images/P/0142001740.0...</td>\n",
       "      <td>307</td>\n",
       "      <td>8.452769</td>\n",
       "    </tr>\n",
       "    <tr>\n",
       "      <th>27</th>\n",
       "      <td>The Da Vinci Code</td>\n",
       "      <td>Dan Brown</td>\n",
       "      <td>http://images.amazon.com/images/P/0385504209.0...</td>\n",
       "      <td>487</td>\n",
       "      <td>8.435318</td>\n",
       "    </tr>\n",
       "    <tr>\n",
       "      <th>28</th>\n",
       "      <td>Fast Food Nation: The Dark Side of the All-Ame...</td>\n",
       "      <td>Eric Schlosser</td>\n",
       "      <td>http://images.amazon.com/images/P/0060938455.0...</td>\n",
       "      <td>154</td>\n",
       "      <td>8.415584</td>\n",
       "    </tr>\n",
       "    <tr>\n",
       "      <th>29</th>\n",
       "      <td>Their Eyes Were Watching God: A Novel</td>\n",
       "      <td>Zora Neale Hurston</td>\n",
       "      <td>http://images.amazon.com/images/P/0060916508.0...</td>\n",
       "      <td>52</td>\n",
       "      <td>8.403846</td>\n",
       "    </tr>\n",
       "    <tr>\n",
       "      <th>30</th>\n",
       "      <td>One for the Money (A Stephanie Plum Novel)</td>\n",
       "      <td>Janet Evanovich</td>\n",
       "      <td>http://images.amazon.com/images/P/0312990456.0...</td>\n",
       "      <td>68</td>\n",
       "      <td>8.397059</td>\n",
       "    </tr>\n",
       "    <tr>\n",
       "      <th>31</th>\n",
       "      <td>The Pillars of the Earth</td>\n",
       "      <td>Ken Follett</td>\n",
       "      <td>http://images.amazon.com/images/P/0451166892.0...</td>\n",
       "      <td>87</td>\n",
       "      <td>8.390805</td>\n",
       "    </tr>\n",
       "    <tr>\n",
       "      <th>32</th>\n",
       "      <td>The Poisonwood Bible</td>\n",
       "      <td>Barbara Kingsolver</td>\n",
       "      <td>http://images.amazon.com/images/P/0060175400.0...</td>\n",
       "      <td>78</td>\n",
       "      <td>8.384615</td>\n",
       "    </tr>\n",
       "    <tr>\n",
       "      <th>33</th>\n",
       "      <td>The Hitchhiker's Guide to the Galaxy</td>\n",
       "      <td>Douglas Adams</td>\n",
       "      <td>http://images.amazon.com/images/P/0671461494.0...</td>\n",
       "      <td>90</td>\n",
       "      <td>8.377778</td>\n",
       "    </tr>\n",
       "    <tr>\n",
       "      <th>35</th>\n",
       "      <td>Animal Farm</td>\n",
       "      <td>George Orwell</td>\n",
       "      <td>http://images.amazon.com/images/P/0451526341.0...</td>\n",
       "      <td>92</td>\n",
       "      <td>8.369565</td>\n",
       "    </tr>\n",
       "    <tr>\n",
       "      <th>36</th>\n",
       "      <td>Interpreter of Maladies</td>\n",
       "      <td>Jhumpa Lahiri</td>\n",
       "      <td>http://images.amazon.com/images/P/039592720X.0...</td>\n",
       "      <td>74</td>\n",
       "      <td>8.364865</td>\n",
       "    </tr>\n",
       "    <tr>\n",
       "      <th>37</th>\n",
       "      <td>The Last Juror</td>\n",
       "      <td>John Grisham</td>\n",
       "      <td>http://images.amazon.com/images/P/0385510438.0...</td>\n",
       "      <td>63</td>\n",
       "      <td>8.349206</td>\n",
       "    </tr>\n",
       "    <tr>\n",
       "      <th>38</th>\n",
       "      <td>The Curious Incident of the Dog in the Night-T...</td>\n",
       "      <td>Mark Haddon</td>\n",
       "      <td>http://images.amazon.com/images/P/0385512104.0...</td>\n",
       "      <td>54</td>\n",
       "      <td>8.333333</td>\n",
       "    </tr>\n",
       "    <tr>\n",
       "      <th>39</th>\n",
       "      <td>What to Expect the First Year</td>\n",
       "      <td>Arlene Eisenberg</td>\n",
       "      <td>http://images.amazon.com/images/P/0894805770.0...</td>\n",
       "      <td>51</td>\n",
       "      <td>8.313725</td>\n",
       "    </tr>\n",
       "    <tr>\n",
       "      <th>40</th>\n",
       "      <td>Middlesex: A Novel</td>\n",
       "      <td>Jeffrey Eugenides</td>\n",
       "      <td>http://images.amazon.com/images/P/0312422156.0...</td>\n",
       "      <td>59</td>\n",
       "      <td>8.305085</td>\n",
       "    </tr>\n",
       "    <tr>\n",
       "      <th>41</th>\n",
       "      <td>Like Water for Chocolate: A Novel in Monthly I...</td>\n",
       "      <td>Laura Esquivel</td>\n",
       "      <td>http://images.amazon.com/images/P/0385420161.0...</td>\n",
       "      <td>61</td>\n",
       "      <td>8.278689</td>\n",
       "    </tr>\n",
       "    <tr>\n",
       "      <th>42</th>\n",
       "      <td>What to Expect When You're Expecting (Revised ...</td>\n",
       "      <td>Arlene Eisenberg</td>\n",
       "      <td>http://images.amazon.com/images/P/089480829X.0...</td>\n",
       "      <td>64</td>\n",
       "      <td>8.265625</td>\n",
       "    </tr>\n",
       "    <tr>\n",
       "      <th>43</th>\n",
       "      <td>Angela's Ashes: A Memoir</td>\n",
       "      <td>Frank McCourt</td>\n",
       "      <td>http://images.amazon.com/images/P/068484267X.0...</td>\n",
       "      <td>98</td>\n",
       "      <td>8.265306</td>\n",
       "    </tr>\n",
       "    <tr>\n",
       "      <th>44</th>\n",
       "      <td>Nickel and Dimed: On (Not) Getting By in America</td>\n",
       "      <td>Barbara Ehrenreich</td>\n",
       "      <td>http://images.amazon.com/images/P/0805063897.0...</td>\n",
       "      <td>174</td>\n",
       "      <td>8.258621</td>\n",
       "    </tr>\n",
       "    <tr>\n",
       "      <th>46</th>\n",
       "      <td>The Color of Water: A Black Man's Tribute to H...</td>\n",
       "      <td>James McBride</td>\n",
       "      <td>http://images.amazon.com/images/P/1573225789.0...</td>\n",
       "      <td>92</td>\n",
       "      <td>8.250000</td>\n",
       "    </tr>\n",
       "    <tr>\n",
       "      <th>47</th>\n",
       "      <td>The House of the Spirits</td>\n",
       "      <td>Isabel Allende</td>\n",
       "      <td>http://images.amazon.com/images/P/0553273914.0...</td>\n",
       "      <td>65</td>\n",
       "      <td>8.246154</td>\n",
       "    </tr>\n",
       "    <tr>\n",
       "      <th>48</th>\n",
       "      <td>Sisterhood of the Traveling Pants</td>\n",
       "      <td>ANN BRASHARES</td>\n",
       "      <td>http://images.amazon.com/images/P/0385730586.0...</td>\n",
       "      <td>61</td>\n",
       "      <td>8.245902</td>\n",
       "    </tr>\n",
       "    <tr>\n",
       "      <th>49</th>\n",
       "      <td>Seabiscuit</td>\n",
       "      <td>LAURA HILLENBRAND</td>\n",
       "      <td>http://images.amazon.com/images/P/0345465083.0...</td>\n",
       "      <td>62</td>\n",
       "      <td>8.241935</td>\n",
       "    </tr>\n",
       "    <tr>\n",
       "      <th>50</th>\n",
       "      <td>The Sparrow</td>\n",
       "      <td>MARY DORIA RUSSELL</td>\n",
       "      <td>http://images.amazon.com/images/P/0449912558.0...</td>\n",
       "      <td>50</td>\n",
       "      <td>8.240000</td>\n",
       "    </tr>\n",
       "    <tr>\n",
       "      <th>51</th>\n",
       "      <td>The Perks of Being a Wallflower</td>\n",
       "      <td>Stephen Chbosky</td>\n",
       "      <td>http://images.amazon.com/images/P/0671027344.0...</td>\n",
       "      <td>65</td>\n",
       "      <td>8.230769</td>\n",
       "    </tr>\n",
       "    <tr>\n",
       "      <th>52</th>\n",
       "      <td>Catch 22</td>\n",
       "      <td>Joseph Heller</td>\n",
       "      <td>http://images.amazon.com/images/P/0684833395.0...</td>\n",
       "      <td>53</td>\n",
       "      <td>8.226415</td>\n",
       "    </tr>\n",
       "    <tr>\n",
       "      <th>53</th>\n",
       "      <td>A Walk in the Woods: Rediscovering America on ...</td>\n",
       "      <td>Bill Bryson</td>\n",
       "      <td>http://images.amazon.com/images/P/0767902521.0...</td>\n",
       "      <td>106</td>\n",
       "      <td>8.207547</td>\n",
       "    </tr>\n",
       "    <tr>\n",
       "      <th>54</th>\n",
       "      <td>The Joy Luck Club</td>\n",
       "      <td>Amy Tan</td>\n",
       "      <td>http://images.amazon.com/images/P/0804106304.0...</td>\n",
       "      <td>194</td>\n",
       "      <td>8.195876</td>\n",
       "    </tr>\n",
       "    <tr>\n",
       "      <th>55</th>\n",
       "      <td>Good Omens</td>\n",
       "      <td>Neil Gaiman</td>\n",
       "      <td>http://images.amazon.com/images/P/0441003257.0...</td>\n",
       "      <td>87</td>\n",
       "      <td>8.195402</td>\n",
       "    </tr>\n",
       "  </tbody>\n",
       "</table>\n",
       "</div>"
      ],
      "text/plain": [
       "                                           Book-Title  \\\n",
       "0      The Two Towers (The Lord of the Rings, Part 2)   \n",
       "1                                   The Little Prince   \n",
       "2                               To Kill a Mockingbird   \n",
       "4   Anne of Green Gables (Anne of Green Gables Nov...   \n",
       "5   The Fellowship of the Ring (The Lord of the Ri...   \n",
       "6   The Princess Bride: S Morgenstern's Classic Ta...   \n",
       "7   Lamb : The Gospel According to Biff, Christ's ...   \n",
       "8               Anne Frank: The Diary of a Young Girl   \n",
       "9       The Subtle Knife (His Dark Materials, Book 2)   \n",
       "12                 The Giver (21st Century Reference)   \n",
       "13  Lies and the Lying Liars Who Tell Them: A Fair...   \n",
       "14                            A Prayer for Owen Meany   \n",
       "15      Fried Green Tomatoes at the Whistle Stop Cafe   \n",
       "16                              The Phantom Tollbooth   \n",
       "17                                     The Bean Trees   \n",
       "18                                    Four Blind Mice   \n",
       "19                                         Fight Club   \n",
       "20                      One Hundred Years of Solitude   \n",
       "22                                The Handmaid's Tale   \n",
       "23                      The Stand: Complete and Uncut   \n",
       "24                     Seabiscuit: An American Legend   \n",
       "25                                 Dragonfly in Amber   \n",
       "26                            The Secret Life of Bees   \n",
       "27                                  The Da Vinci Code   \n",
       "28  Fast Food Nation: The Dark Side of the All-Ame...   \n",
       "29              Their Eyes Were Watching God: A Novel   \n",
       "30         One for the Money (A Stephanie Plum Novel)   \n",
       "31                           The Pillars of the Earth   \n",
       "32                               The Poisonwood Bible   \n",
       "33               The Hitchhiker's Guide to the Galaxy   \n",
       "35                                        Animal Farm   \n",
       "36                            Interpreter of Maladies   \n",
       "37                                     The Last Juror   \n",
       "38  The Curious Incident of the Dog in the Night-T...   \n",
       "39                      What to Expect the First Year   \n",
       "40                                 Middlesex: A Novel   \n",
       "41  Like Water for Chocolate: A Novel in Monthly I...   \n",
       "42  What to Expect When You're Expecting (Revised ...   \n",
       "43                           Angela's Ashes: A Memoir   \n",
       "44   Nickel and Dimed: On (Not) Getting By in America   \n",
       "46  The Color of Water: A Black Man's Tribute to H...   \n",
       "47                           The House of the Spirits   \n",
       "48                  Sisterhood of the Traveling Pants   \n",
       "49                                         Seabiscuit   \n",
       "50                                        The Sparrow   \n",
       "51                    The Perks of Being a Wallflower   \n",
       "52                                           Catch 22   \n",
       "53  A Walk in the Woods: Rediscovering America on ...   \n",
       "54                                  The Joy Luck Club   \n",
       "55                                         Good Omens   \n",
       "\n",
       "                  Book-Author  \\\n",
       "0              J.R.R. TOLKIEN   \n",
       "1   Antoine de Saint-ExupÃ©ry   \n",
       "2                  Harper Lee   \n",
       "4             L.M. MONTGOMERY   \n",
       "5              J.R.R. TOLKIEN   \n",
       "6             WILLIAM GOLDMAN   \n",
       "7           Christopher Moore   \n",
       "8                  ANNE FRANK   \n",
       "9              PHILIP PULLMAN   \n",
       "12                 LOIS LOWRY   \n",
       "13                 Al Franken   \n",
       "14                John Irving   \n",
       "15               Fannie Flagg   \n",
       "16              Norton Juster   \n",
       "17         Barbara Kingsolver   \n",
       "18            James Patterson   \n",
       "19            Chuck Palahniuk   \n",
       "20     Gabriel Garcia Marquez   \n",
       "22            Margaret Atwood   \n",
       "23               Stephen King   \n",
       "24          LAURA HILLENBRAND   \n",
       "25             DIANA GABALDON   \n",
       "26              Sue Monk Kidd   \n",
       "27                  Dan Brown   \n",
       "28             Eric Schlosser   \n",
       "29         Zora Neale Hurston   \n",
       "30            Janet Evanovich   \n",
       "31                Ken Follett   \n",
       "32         Barbara Kingsolver   \n",
       "33              Douglas Adams   \n",
       "35              George Orwell   \n",
       "36              Jhumpa Lahiri   \n",
       "37               John Grisham   \n",
       "38                Mark Haddon   \n",
       "39           Arlene Eisenberg   \n",
       "40          Jeffrey Eugenides   \n",
       "41             Laura Esquivel   \n",
       "42           Arlene Eisenberg   \n",
       "43              Frank McCourt   \n",
       "44         Barbara Ehrenreich   \n",
       "46              James McBride   \n",
       "47             Isabel Allende   \n",
       "48              ANN BRASHARES   \n",
       "49          LAURA HILLENBRAND   \n",
       "50         MARY DORIA RUSSELL   \n",
       "51            Stephen Chbosky   \n",
       "52              Joseph Heller   \n",
       "53                Bill Bryson   \n",
       "54                    Amy Tan   \n",
       "55                Neil Gaiman   \n",
       "\n",
       "                                          Image-URL-M  num_ratings  avg_rating  \n",
       "0   http://images.amazon.com/images/P/0345339711.0...           83    9.120482  \n",
       "1   http://images.amazon.com/images/P/0156528207.0...           51    8.980392  \n",
       "2   http://images.amazon.com/images/P/0446310786.0...          230    8.960870  \n",
       "4   http://images.amazon.com/images/P/055321313X.0...           53    8.905660  \n",
       "5   http://images.amazon.com/images/P/0345339703.0...          131    8.839695  \n",
       "6   http://images.amazon.com/images/P/0345348036.0...           74    8.837838  \n",
       "7   http://images.amazon.com/images/P/0380813815.0...           61    8.786885  \n",
       "8   http://images.amazon.com/images/P/0553296981.0...           77    8.701299  \n",
       "9   http://images.amazon.com/images/P/0375823468.0...           69    8.666667  \n",
       "12  http://images.amazon.com/images/P/0440219078.0...          101    8.663366  \n",
       "13  http://images.amazon.com/images/P/0525947647.0...           65    8.615385  \n",
       "14  http://images.amazon.com/images/P/0345361792.0...          181    8.607735  \n",
       "15  http://images.amazon.com/images/P/0070212570.0...           86    8.593023  \n",
       "16  http://images.amazon.com/images/P/0394820371.0...           58    8.551724  \n",
       "17  http://images.amazon.com/images/P/0060915544.0...          117    8.521368  \n",
       "18  http://images.amazon.com/images/P/0316693006.0...           59    8.508475  \n",
       "19  http://images.amazon.com/images/P/0805062971.0...           50    8.500000  \n",
       "20  http://images.amazon.com/images/P/0060929790.0...           62    8.500000  \n",
       "22  http://images.amazon.com/images/P/0449212602.0...          111    8.495495  \n",
       "23  http://images.amazon.com/images/P/0451169530.0...           70    8.485714  \n",
       "24  http://images.amazon.com/images/P/0449005615.0...          120    8.483333  \n",
       "25  http://images.amazon.com/images/P/0440215625.0...           70    8.471429  \n",
       "26  http://images.amazon.com/images/P/0142001740.0...          307    8.452769  \n",
       "27  http://images.amazon.com/images/P/0385504209.0...          487    8.435318  \n",
       "28  http://images.amazon.com/images/P/0060938455.0...          154    8.415584  \n",
       "29  http://images.amazon.com/images/P/0060916508.0...           52    8.403846  \n",
       "30  http://images.amazon.com/images/P/0312990456.0...           68    8.397059  \n",
       "31  http://images.amazon.com/images/P/0451166892.0...           87    8.390805  \n",
       "32  http://images.amazon.com/images/P/0060175400.0...           78    8.384615  \n",
       "33  http://images.amazon.com/images/P/0671461494.0...           90    8.377778  \n",
       "35  http://images.amazon.com/images/P/0451526341.0...           92    8.369565  \n",
       "36  http://images.amazon.com/images/P/039592720X.0...           74    8.364865  \n",
       "37  http://images.amazon.com/images/P/0385510438.0...           63    8.349206  \n",
       "38  http://images.amazon.com/images/P/0385512104.0...           54    8.333333  \n",
       "39  http://images.amazon.com/images/P/0894805770.0...           51    8.313725  \n",
       "40  http://images.amazon.com/images/P/0312422156.0...           59    8.305085  \n",
       "41  http://images.amazon.com/images/P/0385420161.0...           61    8.278689  \n",
       "42  http://images.amazon.com/images/P/089480829X.0...           64    8.265625  \n",
       "43  http://images.amazon.com/images/P/068484267X.0...           98    8.265306  \n",
       "44  http://images.amazon.com/images/P/0805063897.0...          174    8.258621  \n",
       "46  http://images.amazon.com/images/P/1573225789.0...           92    8.250000  \n",
       "47  http://images.amazon.com/images/P/0553273914.0...           65    8.246154  \n",
       "48  http://images.amazon.com/images/P/0385730586.0...           61    8.245902  \n",
       "49  http://images.amazon.com/images/P/0345465083.0...           62    8.241935  \n",
       "50  http://images.amazon.com/images/P/0449912558.0...           50    8.240000  \n",
       "51  http://images.amazon.com/images/P/0671027344.0...           65    8.230769  \n",
       "52  http://images.amazon.com/images/P/0684833395.0...           53    8.226415  \n",
       "53  http://images.amazon.com/images/P/0767902521.0...          106    8.207547  \n",
       "54  http://images.amazon.com/images/P/0804106304.0...          194    8.195876  \n",
       "55  http://images.amazon.com/images/P/0441003257.0...           87    8.195402  "
      ]
     },
     "execution_count": 58,
     "metadata": {},
     "output_type": "execute_result"
    }
   ],
   "source": [
    "#Top 50 popular books based on average rating\n",
    "popular"
   ]
  },
  {
   "cell_type": "code",
   "execution_count": null,
   "metadata": {
    "id": "cKVOWYAmL0LF"
   },
   "outputs": [],
   "source": []
  },
  {
   "cell_type": "markdown",
   "metadata": {
    "id": "au0ghMzHPext"
   },
   "source": [
    "### Collaberative Filtering based"
   ]
  },
  {
   "cell_type": "code",
   "execution_count": 59,
   "metadata": {
    "id": "nLSoPzUlPdeK"
   },
   "outputs": [],
   "source": [
    "x = ratings['User-ID'].value_counts() > 200"
   ]
  },
  {
   "cell_type": "code",
   "execution_count": 60,
   "metadata": {
    "colab": {
     "base_uri": "https://localhost:8080/"
    },
    "id": "BFGm8ARdQnvV",
    "outputId": "4506d549-6307-4b98-ff6c-6f70f9c5e8b4"
   },
   "outputs": [
    {
     "data": {
      "text/plain": [
       "(144,)"
      ]
     },
     "execution_count": 60,
     "metadata": {},
     "output_type": "execute_result"
    }
   ],
   "source": [
    "x[x].shape"
   ]
  },
  {
   "cell_type": "code",
   "execution_count": 61,
   "metadata": {
    "colab": {
     "base_uri": "https://localhost:8080/"
    },
    "id": "aogw9FfUQxkI",
    "outputId": "2096dc0d-206d-4ea8-96da-b5e5138e3383"
   },
   "outputs": [
    {
     "data": {
      "text/plain": [
       "Index([ 11676,  98391, 153662, 189835,  23902,  76499, 171118, 235105,  16795,\n",
       "       248718,\n",
       "       ...\n",
       "        56447,  36606, 245827,  97874,  38023, 269566, 156467, 183995,  60707,\n",
       "       101209],\n",
       "      dtype='int64', name='User-ID', length=144)"
      ]
     },
     "execution_count": 61,
     "metadata": {},
     "output_type": "execute_result"
    }
   ],
   "source": [
    "y= x[x].index\n",
    "y"
   ]
  },
  {
   "cell_type": "code",
   "execution_count": 62,
   "metadata": {
    "id": "rB6aHSlpRCes"
   },
   "outputs": [],
   "source": [
    "ratings = ratings[ratings['User-ID'].isin(y)]"
   ]
  },
  {
   "cell_type": "code",
   "execution_count": 63,
   "metadata": {
    "colab": {
     "base_uri": "https://localhost:8080/",
     "height": 206
    },
    "id": "oOCqCI2yRNHx",
    "outputId": "7cc2b71e-e390-4d98-f2d8-43fdd1b02e87"
   },
   "outputs": [
    {
     "data": {
      "text/html": [
       "<div>\n",
       "<style scoped>\n",
       "    .dataframe tbody tr th:only-of-type {\n",
       "        vertical-align: middle;\n",
       "    }\n",
       "\n",
       "    .dataframe tbody tr th {\n",
       "        vertical-align: top;\n",
       "    }\n",
       "\n",
       "    .dataframe thead th {\n",
       "        text-align: right;\n",
       "    }\n",
       "</style>\n",
       "<table border=\"1\" class=\"dataframe\">\n",
       "  <thead>\n",
       "    <tr style=\"text-align: right;\">\n",
       "      <th></th>\n",
       "      <th>User-ID</th>\n",
       "      <th>ISBN</th>\n",
       "      <th>Book-Rating</th>\n",
       "    </tr>\n",
       "  </thead>\n",
       "  <tbody>\n",
       "    <tr>\n",
       "      <th>5137</th>\n",
       "      <td>2276</td>\n",
       "      <td>0020960808</td>\n",
       "      <td>10</td>\n",
       "    </tr>\n",
       "    <tr>\n",
       "      <th>5138</th>\n",
       "      <td>2276</td>\n",
       "      <td>0030632366</td>\n",
       "      <td>9</td>\n",
       "    </tr>\n",
       "    <tr>\n",
       "      <th>5139</th>\n",
       "      <td>2276</td>\n",
       "      <td>0061030643</td>\n",
       "      <td>8</td>\n",
       "    </tr>\n",
       "    <tr>\n",
       "      <th>5140</th>\n",
       "      <td>2276</td>\n",
       "      <td>0061098353</td>\n",
       "      <td>8</td>\n",
       "    </tr>\n",
       "    <tr>\n",
       "      <th>5141</th>\n",
       "      <td>2276</td>\n",
       "      <td>0061099155</td>\n",
       "      <td>9</td>\n",
       "    </tr>\n",
       "  </tbody>\n",
       "</table>\n",
       "</div>"
      ],
      "text/plain": [
       "      User-ID        ISBN  Book-Rating\n",
       "5137     2276  0020960808           10\n",
       "5138     2276  0030632366            9\n",
       "5139     2276  0061030643            8\n",
       "5140     2276  0061098353            8\n",
       "5141     2276  0061099155            9"
      ]
     },
     "execution_count": 63,
     "metadata": {},
     "output_type": "execute_result"
    }
   ],
   "source": [
    "ratings.head()"
   ]
  },
  {
   "cell_type": "code",
   "execution_count": 64,
   "metadata": {
    "colab": {
     "base_uri": "https://localhost:8080/"
    },
    "id": "MZz-p6HCRTUK",
    "outputId": "d6931b6e-a534-4181-8641-60107e4032b3"
   },
   "outputs": [
    {
     "data": {
      "text/plain": [
       "(69226, 3)"
      ]
     },
     "execution_count": 64,
     "metadata": {},
     "output_type": "execute_result"
    }
   ],
   "source": [
    "ratings.shape"
   ]
  },
  {
   "cell_type": "code",
   "execution_count": 65,
   "metadata": {
    "id": "oes30RdeRloI"
   },
   "outputs": [],
   "source": [
    "ratings_with_books = ratings.merge(books, on='ISBN')"
   ]
  },
  {
   "cell_type": "code",
   "execution_count": 66,
   "metadata": {
    "colab": {
     "base_uri": "https://localhost:8080/"
    },
    "id": "ETT26tmURV_-",
    "outputId": "b274c189-7bf1-461b-ac8f-ccfb74b2554b"
   },
   "outputs": [
    {
     "data": {
      "text/plain": [
       "(2808, 10)"
      ]
     },
     "execution_count": 66,
     "metadata": {},
     "output_type": "execute_result"
    }
   ],
   "source": [
    "ratings_with_books.shape"
   ]
  },
  {
   "cell_type": "code",
   "execution_count": 67,
   "metadata": {
    "colab": {
     "base_uri": "https://localhost:8080/",
     "height": 556
    },
    "id": "PuOHFuScRgvC",
    "outputId": "134bdf85-931c-43f7-bb25-b058189a05b6"
   },
   "outputs": [
    {
     "data": {
      "text/html": [
       "<div>\n",
       "<style scoped>\n",
       "    .dataframe tbody tr th:only-of-type {\n",
       "        vertical-align: middle;\n",
       "    }\n",
       "\n",
       "    .dataframe tbody tr th {\n",
       "        vertical-align: top;\n",
       "    }\n",
       "\n",
       "    .dataframe thead th {\n",
       "        text-align: right;\n",
       "    }\n",
       "</style>\n",
       "<table border=\"1\" class=\"dataframe\">\n",
       "  <thead>\n",
       "    <tr style=\"text-align: right;\">\n",
       "      <th></th>\n",
       "      <th>User-ID</th>\n",
       "      <th>ISBN</th>\n",
       "      <th>Book-Rating</th>\n",
       "      <th>Book-Title</th>\n",
       "      <th>Book-Author</th>\n",
       "      <th>Year-Of-Publication</th>\n",
       "      <th>Publisher</th>\n",
       "      <th>Image-URL-S</th>\n",
       "      <th>Image-URL-M</th>\n",
       "      <th>Image-URL-L</th>\n",
       "    </tr>\n",
       "  </thead>\n",
       "  <tbody>\n",
       "    <tr>\n",
       "      <th>0</th>\n",
       "      <td>2276</td>\n",
       "      <td>0345404793</td>\n",
       "      <td>9</td>\n",
       "      <td>Protect and Defend</td>\n",
       "      <td>Richard North Patterson</td>\n",
       "      <td>2001</td>\n",
       "      <td>Ballantine Books</td>\n",
       "      <td>http://images.amazon.com/images/P/0345404793.0...</td>\n",
       "      <td>http://images.amazon.com/images/P/0345404793.0...</td>\n",
       "      <td>http://images.amazon.com/images/P/0345404793.0...</td>\n",
       "    </tr>\n",
       "    <tr>\n",
       "      <th>1</th>\n",
       "      <td>2276</td>\n",
       "      <td>0385505833</td>\n",
       "      <td>5</td>\n",
       "      <td>Skipping Christmas</td>\n",
       "      <td>JOHN GRISHAM</td>\n",
       "      <td>2001</td>\n",
       "      <td>Doubleday</td>\n",
       "      <td>http://images.amazon.com/images/P/0385505833.0...</td>\n",
       "      <td>http://images.amazon.com/images/P/0385505833.0...</td>\n",
       "      <td>http://images.amazon.com/images/P/0385505833.0...</td>\n",
       "    </tr>\n",
       "    <tr>\n",
       "      <th>2</th>\n",
       "      <td>2276</td>\n",
       "      <td>0425182908</td>\n",
       "      <td>4</td>\n",
       "      <td>Isle of Dogs</td>\n",
       "      <td>Patricia Cornwell</td>\n",
       "      <td>2002</td>\n",
       "      <td>Berkley Publishing Group</td>\n",
       "      <td>http://images.amazon.com/images/P/0425182908.0...</td>\n",
       "      <td>http://images.amazon.com/images/P/0425182908.0...</td>\n",
       "      <td>http://images.amazon.com/images/P/0425182908.0...</td>\n",
       "    </tr>\n",
       "    <tr>\n",
       "      <th>3</th>\n",
       "      <td>2276</td>\n",
       "      <td>0440236673</td>\n",
       "      <td>10</td>\n",
       "      <td>The Brethren</td>\n",
       "      <td>John Grisham</td>\n",
       "      <td>2000</td>\n",
       "      <td>Island</td>\n",
       "      <td>http://images.amazon.com/images/P/0440236673.0...</td>\n",
       "      <td>http://images.amazon.com/images/P/0440236673.0...</td>\n",
       "      <td>http://images.amazon.com/images/P/0440236673.0...</td>\n",
       "    </tr>\n",
       "    <tr>\n",
       "      <th>4</th>\n",
       "      <td>2276</td>\n",
       "      <td>0441317502</td>\n",
       "      <td>9</td>\n",
       "      <td>Harp and the Blade</td>\n",
       "      <td>John Myers Myers</td>\n",
       "      <td>1985</td>\n",
       "      <td>Ace Books</td>\n",
       "      <td>http://images.amazon.com/images/P/0441317502.0...</td>\n",
       "      <td>http://images.amazon.com/images/P/0441317502.0...</td>\n",
       "      <td>http://images.amazon.com/images/P/0441317502.0...</td>\n",
       "    </tr>\n",
       "  </tbody>\n",
       "</table>\n",
       "</div>"
      ],
      "text/plain": [
       "   User-ID        ISBN  Book-Rating          Book-Title  \\\n",
       "0     2276  0345404793            9  Protect and Defend   \n",
       "1     2276  0385505833            5  Skipping Christmas   \n",
       "2     2276  0425182908            4        Isle of Dogs   \n",
       "3     2276  0440236673           10        The Brethren   \n",
       "4     2276  0441317502            9  Harp and the Blade   \n",
       "\n",
       "               Book-Author  Year-Of-Publication                 Publisher  \\\n",
       "0  Richard North Patterson                 2001          Ballantine Books   \n",
       "1             JOHN GRISHAM                 2001                 Doubleday   \n",
       "2        Patricia Cornwell                 2002  Berkley Publishing Group   \n",
       "3             John Grisham                 2000                    Island   \n",
       "4         John Myers Myers                 1985                 Ace Books   \n",
       "\n",
       "                                         Image-URL-S  \\\n",
       "0  http://images.amazon.com/images/P/0345404793.0...   \n",
       "1  http://images.amazon.com/images/P/0385505833.0...   \n",
       "2  http://images.amazon.com/images/P/0425182908.0...   \n",
       "3  http://images.amazon.com/images/P/0440236673.0...   \n",
       "4  http://images.amazon.com/images/P/0441317502.0...   \n",
       "\n",
       "                                         Image-URL-M  \\\n",
       "0  http://images.amazon.com/images/P/0345404793.0...   \n",
       "1  http://images.amazon.com/images/P/0385505833.0...   \n",
       "2  http://images.amazon.com/images/P/0425182908.0...   \n",
       "3  http://images.amazon.com/images/P/0440236673.0...   \n",
       "4  http://images.amazon.com/images/P/0441317502.0...   \n",
       "\n",
       "                                         Image-URL-L  \n",
       "0  http://images.amazon.com/images/P/0345404793.0...  \n",
       "1  http://images.amazon.com/images/P/0385505833.0...  \n",
       "2  http://images.amazon.com/images/P/0425182908.0...  \n",
       "3  http://images.amazon.com/images/P/0440236673.0...  \n",
       "4  http://images.amazon.com/images/P/0441317502.0...  "
      ]
     },
     "execution_count": 67,
     "metadata": {},
     "output_type": "execute_result"
    }
   ],
   "source": [
    "ratings_with_books.head()"
   ]
  },
  {
   "cell_type": "code",
   "execution_count": 68,
   "metadata": {
    "id": "xVVZJ2mlR1zu"
   },
   "outputs": [],
   "source": [
    "number_rating = ratings_with_books.groupby('Book-Title')['Book-Rating'].count().reset_index()"
   ]
  },
  {
   "cell_type": "code",
   "execution_count": 69,
   "metadata": {
    "colab": {
     "base_uri": "https://localhost:8080/",
     "height": 206
    },
    "id": "afGP9dYuVaZl",
    "outputId": "34e9e431-de76-40e9-d829-29ec25fe1033"
   },
   "outputs": [
    {
     "data": {
      "text/html": [
       "<div>\n",
       "<style scoped>\n",
       "    .dataframe tbody tr th:only-of-type {\n",
       "        vertical-align: middle;\n",
       "    }\n",
       "\n",
       "    .dataframe tbody tr th {\n",
       "        vertical-align: top;\n",
       "    }\n",
       "\n",
       "    .dataframe thead th {\n",
       "        text-align: right;\n",
       "    }\n",
       "</style>\n",
       "<table border=\"1\" class=\"dataframe\">\n",
       "  <thead>\n",
       "    <tr style=\"text-align: right;\">\n",
       "      <th></th>\n",
       "      <th>Book-Title</th>\n",
       "      <th>Book-Rating</th>\n",
       "    </tr>\n",
       "  </thead>\n",
       "  <tbody>\n",
       "    <tr>\n",
       "      <th>0</th>\n",
       "      <td>101 Dalmatians</td>\n",
       "      <td>2</td>\n",
       "    </tr>\n",
       "    <tr>\n",
       "      <th>1</th>\n",
       "      <td>14,000 Things to Be Happy About</td>\n",
       "      <td>2</td>\n",
       "    </tr>\n",
       "    <tr>\n",
       "      <th>2</th>\n",
       "      <td>1st to Die: A Novel</td>\n",
       "      <td>14</td>\n",
       "    </tr>\n",
       "    <tr>\n",
       "      <th>3</th>\n",
       "      <td>20,000 Leagues Under the Sea (Wordsworth Colle...</td>\n",
       "      <td>1</td>\n",
       "    </tr>\n",
       "    <tr>\n",
       "      <th>4</th>\n",
       "      <td>2061: Odyssey Three</td>\n",
       "      <td>2</td>\n",
       "    </tr>\n",
       "  </tbody>\n",
       "</table>\n",
       "</div>"
      ],
      "text/plain": [
       "                                          Book-Title  Book-Rating\n",
       "0                                     101 Dalmatians            2\n",
       "1                    14,000 Things to Be Happy About            2\n",
       "2                                1st to Die: A Novel           14\n",
       "3  20,000 Leagues Under the Sea (Wordsworth Colle...            1\n",
       "4                                2061: Odyssey Three            2"
      ]
     },
     "execution_count": 69,
     "metadata": {},
     "output_type": "execute_result"
    }
   ],
   "source": [
    "number_rating.head()"
   ]
  },
  {
   "cell_type": "code",
   "execution_count": 70,
   "metadata": {
    "id": "AGKFBIQ8Vc2H"
   },
   "outputs": [],
   "source": [
    "number_rating.rename(columns={'Book-Rating':'num_of_rating'},inplace=True)"
   ]
  },
  {
   "cell_type": "code",
   "execution_count": 71,
   "metadata": {
    "colab": {
     "base_uri": "https://localhost:8080/",
     "height": 206
    },
    "id": "pb10e9c-VyBE",
    "outputId": "eb44d94e-8db0-409c-9835-78eb8a6eaeac"
   },
   "outputs": [
    {
     "data": {
      "text/html": [
       "<div>\n",
       "<style scoped>\n",
       "    .dataframe tbody tr th:only-of-type {\n",
       "        vertical-align: middle;\n",
       "    }\n",
       "\n",
       "    .dataframe tbody tr th {\n",
       "        vertical-align: top;\n",
       "    }\n",
       "\n",
       "    .dataframe thead th {\n",
       "        text-align: right;\n",
       "    }\n",
       "</style>\n",
       "<table border=\"1\" class=\"dataframe\">\n",
       "  <thead>\n",
       "    <tr style=\"text-align: right;\">\n",
       "      <th></th>\n",
       "      <th>Book-Title</th>\n",
       "      <th>num_of_rating</th>\n",
       "    </tr>\n",
       "  </thead>\n",
       "  <tbody>\n",
       "    <tr>\n",
       "      <th>0</th>\n",
       "      <td>101 Dalmatians</td>\n",
       "      <td>2</td>\n",
       "    </tr>\n",
       "    <tr>\n",
       "      <th>1</th>\n",
       "      <td>14,000 Things to Be Happy About</td>\n",
       "      <td>2</td>\n",
       "    </tr>\n",
       "    <tr>\n",
       "      <th>2</th>\n",
       "      <td>1st to Die: A Novel</td>\n",
       "      <td>14</td>\n",
       "    </tr>\n",
       "    <tr>\n",
       "      <th>3</th>\n",
       "      <td>20,000 Leagues Under the Sea (Wordsworth Colle...</td>\n",
       "      <td>1</td>\n",
       "    </tr>\n",
       "    <tr>\n",
       "      <th>4</th>\n",
       "      <td>2061: Odyssey Three</td>\n",
       "      <td>2</td>\n",
       "    </tr>\n",
       "  </tbody>\n",
       "</table>\n",
       "</div>"
      ],
      "text/plain": [
       "                                          Book-Title  num_of_rating\n",
       "0                                     101 Dalmatians              2\n",
       "1                    14,000 Things to Be Happy About              2\n",
       "2                                1st to Die: A Novel             14\n",
       "3  20,000 Leagues Under the Sea (Wordsworth Colle...              1\n",
       "4                                2061: Odyssey Three              2"
      ]
     },
     "execution_count": 71,
     "metadata": {},
     "output_type": "execute_result"
    }
   ],
   "source": [
    "number_rating.head()"
   ]
  },
  {
   "cell_type": "code",
   "execution_count": 72,
   "metadata": {
    "id": "Zw1jmEPwV0zD"
   },
   "outputs": [],
   "source": [
    "final_rating = ratings_with_books.merge(number_rating, on='Book-Title')"
   ]
  },
  {
   "cell_type": "code",
   "execution_count": 73,
   "metadata": {
    "colab": {
     "base_uri": "https://localhost:8080/",
     "height": 556
    },
    "id": "Jg4oiN4pWUuo",
    "outputId": "da1be082-191c-4651-a43e-35f4e88ea4e5"
   },
   "outputs": [
    {
     "data": {
      "text/html": [
       "<div>\n",
       "<style scoped>\n",
       "    .dataframe tbody tr th:only-of-type {\n",
       "        vertical-align: middle;\n",
       "    }\n",
       "\n",
       "    .dataframe tbody tr th {\n",
       "        vertical-align: top;\n",
       "    }\n",
       "\n",
       "    .dataframe thead th {\n",
       "        text-align: right;\n",
       "    }\n",
       "</style>\n",
       "<table border=\"1\" class=\"dataframe\">\n",
       "  <thead>\n",
       "    <tr style=\"text-align: right;\">\n",
       "      <th></th>\n",
       "      <th>User-ID</th>\n",
       "      <th>ISBN</th>\n",
       "      <th>Book-Rating</th>\n",
       "      <th>Book-Title</th>\n",
       "      <th>Book-Author</th>\n",
       "      <th>Year-Of-Publication</th>\n",
       "      <th>Publisher</th>\n",
       "      <th>Image-URL-S</th>\n",
       "      <th>Image-URL-M</th>\n",
       "      <th>Image-URL-L</th>\n",
       "      <th>num_of_rating</th>\n",
       "    </tr>\n",
       "  </thead>\n",
       "  <tbody>\n",
       "    <tr>\n",
       "      <th>0</th>\n",
       "      <td>2276</td>\n",
       "      <td>0345404793</td>\n",
       "      <td>9</td>\n",
       "      <td>Protect and Defend</td>\n",
       "      <td>Richard North Patterson</td>\n",
       "      <td>2001</td>\n",
       "      <td>Ballantine Books</td>\n",
       "      <td>http://images.amazon.com/images/P/0345404793.0...</td>\n",
       "      <td>http://images.amazon.com/images/P/0345404793.0...</td>\n",
       "      <td>http://images.amazon.com/images/P/0345404793.0...</td>\n",
       "      <td>3</td>\n",
       "    </tr>\n",
       "    <tr>\n",
       "      <th>1</th>\n",
       "      <td>2276</td>\n",
       "      <td>0385505833</td>\n",
       "      <td>5</td>\n",
       "      <td>Skipping Christmas</td>\n",
       "      <td>JOHN GRISHAM</td>\n",
       "      <td>2001</td>\n",
       "      <td>Doubleday</td>\n",
       "      <td>http://images.amazon.com/images/P/0385505833.0...</td>\n",
       "      <td>http://images.amazon.com/images/P/0385505833.0...</td>\n",
       "      <td>http://images.amazon.com/images/P/0385505833.0...</td>\n",
       "      <td>12</td>\n",
       "    </tr>\n",
       "    <tr>\n",
       "      <th>2</th>\n",
       "      <td>2276</td>\n",
       "      <td>0425182908</td>\n",
       "      <td>4</td>\n",
       "      <td>Isle of Dogs</td>\n",
       "      <td>Patricia Cornwell</td>\n",
       "      <td>2002</td>\n",
       "      <td>Berkley Publishing Group</td>\n",
       "      <td>http://images.amazon.com/images/P/0425182908.0...</td>\n",
       "      <td>http://images.amazon.com/images/P/0425182908.0...</td>\n",
       "      <td>http://images.amazon.com/images/P/0425182908.0...</td>\n",
       "      <td>5</td>\n",
       "    </tr>\n",
       "    <tr>\n",
       "      <th>3</th>\n",
       "      <td>2276</td>\n",
       "      <td>0440236673</td>\n",
       "      <td>10</td>\n",
       "      <td>The Brethren</td>\n",
       "      <td>John Grisham</td>\n",
       "      <td>2000</td>\n",
       "      <td>Island</td>\n",
       "      <td>http://images.amazon.com/images/P/0440236673.0...</td>\n",
       "      <td>http://images.amazon.com/images/P/0440236673.0...</td>\n",
       "      <td>http://images.amazon.com/images/P/0440236673.0...</td>\n",
       "      <td>15</td>\n",
       "    </tr>\n",
       "    <tr>\n",
       "      <th>4</th>\n",
       "      <td>2276</td>\n",
       "      <td>0441317502</td>\n",
       "      <td>9</td>\n",
       "      <td>Harp and the Blade</td>\n",
       "      <td>John Myers Myers</td>\n",
       "      <td>1985</td>\n",
       "      <td>Ace Books</td>\n",
       "      <td>http://images.amazon.com/images/P/0441317502.0...</td>\n",
       "      <td>http://images.amazon.com/images/P/0441317502.0...</td>\n",
       "      <td>http://images.amazon.com/images/P/0441317502.0...</td>\n",
       "      <td>1</td>\n",
       "    </tr>\n",
       "  </tbody>\n",
       "</table>\n",
       "</div>"
      ],
      "text/plain": [
       "   User-ID        ISBN  Book-Rating          Book-Title  \\\n",
       "0     2276  0345404793            9  Protect and Defend   \n",
       "1     2276  0385505833            5  Skipping Christmas   \n",
       "2     2276  0425182908            4        Isle of Dogs   \n",
       "3     2276  0440236673           10        The Brethren   \n",
       "4     2276  0441317502            9  Harp and the Blade   \n",
       "\n",
       "               Book-Author  Year-Of-Publication                 Publisher  \\\n",
       "0  Richard North Patterson                 2001          Ballantine Books   \n",
       "1             JOHN GRISHAM                 2001                 Doubleday   \n",
       "2        Patricia Cornwell                 2002  Berkley Publishing Group   \n",
       "3             John Grisham                 2000                    Island   \n",
       "4         John Myers Myers                 1985                 Ace Books   \n",
       "\n",
       "                                         Image-URL-S  \\\n",
       "0  http://images.amazon.com/images/P/0345404793.0...   \n",
       "1  http://images.amazon.com/images/P/0385505833.0...   \n",
       "2  http://images.amazon.com/images/P/0425182908.0...   \n",
       "3  http://images.amazon.com/images/P/0440236673.0...   \n",
       "4  http://images.amazon.com/images/P/0441317502.0...   \n",
       "\n",
       "                                         Image-URL-M  \\\n",
       "0  http://images.amazon.com/images/P/0345404793.0...   \n",
       "1  http://images.amazon.com/images/P/0385505833.0...   \n",
       "2  http://images.amazon.com/images/P/0425182908.0...   \n",
       "3  http://images.amazon.com/images/P/0440236673.0...   \n",
       "4  http://images.amazon.com/images/P/0441317502.0...   \n",
       "\n",
       "                                         Image-URL-L  num_of_rating  \n",
       "0  http://images.amazon.com/images/P/0345404793.0...              3  \n",
       "1  http://images.amazon.com/images/P/0385505833.0...             12  \n",
       "2  http://images.amazon.com/images/P/0425182908.0...              5  \n",
       "3  http://images.amazon.com/images/P/0440236673.0...             15  \n",
       "4  http://images.amazon.com/images/P/0441317502.0...              1  "
      ]
     },
     "execution_count": 73,
     "metadata": {},
     "output_type": "execute_result"
    }
   ],
   "source": [
    "final_rating.head()"
   ]
  },
  {
   "cell_type": "code",
   "execution_count": 74,
   "metadata": {
    "colab": {
     "base_uri": "https://localhost:8080/"
    },
    "id": "fa3ddpTZWXGG",
    "outputId": "d7f31ca1-247e-4b06-f58f-4eb374a39714"
   },
   "outputs": [
    {
     "data": {
      "text/plain": [
       "(2808, 11)"
      ]
     },
     "execution_count": 74,
     "metadata": {},
     "output_type": "execute_result"
    }
   ],
   "source": [
    "final_rating.shape"
   ]
  },
  {
   "cell_type": "code",
   "execution_count": 75,
   "metadata": {
    "id": "nAceS2a7WasZ"
   },
   "outputs": [],
   "source": [
    "final_rating = final_rating[final_rating['num_of_rating'] >= 50]"
   ]
  },
  {
   "cell_type": "code",
   "execution_count": 76,
   "metadata": {
    "colab": {
     "base_uri": "https://localhost:8080/",
     "height": 521
    },
    "id": "vVmild13Wi7v",
    "outputId": "83788014-f723-419b-d179-dbde4f83c446"
   },
   "outputs": [
    {
     "data": {
      "text/html": [
       "<div>\n",
       "<style scoped>\n",
       "    .dataframe tbody tr th:only-of-type {\n",
       "        vertical-align: middle;\n",
       "    }\n",
       "\n",
       "    .dataframe tbody tr th {\n",
       "        vertical-align: top;\n",
       "    }\n",
       "\n",
       "    .dataframe thead th {\n",
       "        text-align: right;\n",
       "    }\n",
       "</style>\n",
       "<table border=\"1\" class=\"dataframe\">\n",
       "  <thead>\n",
       "    <tr style=\"text-align: right;\">\n",
       "      <th></th>\n",
       "      <th>User-ID</th>\n",
       "      <th>ISBN</th>\n",
       "      <th>Book-Rating</th>\n",
       "      <th>Book-Title</th>\n",
       "      <th>Book-Author</th>\n",
       "      <th>Year-Of-Publication</th>\n",
       "      <th>Publisher</th>\n",
       "      <th>Image-URL-S</th>\n",
       "      <th>Image-URL-M</th>\n",
       "      <th>Image-URL-L</th>\n",
       "      <th>num_of_rating</th>\n",
       "    </tr>\n",
       "  </thead>\n",
       "  <tbody>\n",
       "  </tbody>\n",
       "</table>\n",
       "</div>"
      ],
      "text/plain": [
       "Empty DataFrame\n",
       "Columns: [User-ID, ISBN, Book-Rating, Book-Title, Book-Author, Year-Of-Publication, Publisher, Image-URL-S, Image-URL-M, Image-URL-L, num_of_rating]\n",
       "Index: []"
      ]
     },
     "execution_count": 76,
     "metadata": {},
     "output_type": "execute_result"
    }
   ],
   "source": [
    "final_rating.head()"
   ]
  },
  {
   "cell_type": "code",
   "execution_count": 77,
   "metadata": {
    "colab": {
     "base_uri": "https://localhost:8080/"
    },
    "id": "JdyH0RabWlK5",
    "outputId": "0e5238d4-ed08-47a5-98f8-80f955cd4025"
   },
   "outputs": [
    {
     "data": {
      "text/plain": [
       "(0, 11)"
      ]
     },
     "execution_count": 77,
     "metadata": {},
     "output_type": "execute_result"
    }
   ],
   "source": [
    "final_rating.shape"
   ]
  },
  {
   "cell_type": "code",
   "execution_count": 78,
   "metadata": {
    "id": "riY8yAdFWse0"
   },
   "outputs": [
    {
     "data": {
      "text/html": [
       "<div>\n",
       "<style scoped>\n",
       "    .dataframe tbody tr th:only-of-type {\n",
       "        vertical-align: middle;\n",
       "    }\n",
       "\n",
       "    .dataframe tbody tr th {\n",
       "        vertical-align: top;\n",
       "    }\n",
       "\n",
       "    .dataframe thead th {\n",
       "        text-align: right;\n",
       "    }\n",
       "</style>\n",
       "<table border=\"1\" class=\"dataframe\">\n",
       "  <thead>\n",
       "    <tr style=\"text-align: right;\">\n",
       "      <th></th>\n",
       "      <th>User-ID</th>\n",
       "      <th>ISBN</th>\n",
       "      <th>Book-Rating</th>\n",
       "      <th>Book-Title</th>\n",
       "      <th>Book-Author</th>\n",
       "      <th>Year-Of-Publication</th>\n",
       "      <th>Publisher</th>\n",
       "      <th>Image-URL-S</th>\n",
       "      <th>Image-URL-M</th>\n",
       "      <th>Image-URL-L</th>\n",
       "      <th>num_of_rating</th>\n",
       "    </tr>\n",
       "  </thead>\n",
       "  <tbody>\n",
       "  </tbody>\n",
       "</table>\n",
       "</div>"
      ],
      "text/plain": [
       "Empty DataFrame\n",
       "Columns: [User-ID, ISBN, Book-Rating, Book-Title, Book-Author, Year-Of-Publication, Publisher, Image-URL-S, Image-URL-M, Image-URL-L, num_of_rating]\n",
       "Index: []"
      ]
     },
     "execution_count": 78,
     "metadata": {},
     "output_type": "execute_result"
    }
   ],
   "source": [
    "final_rating.drop_duplicates(['User-ID','Book-Title'],inplace=True)"
   ]
  },
  {
   "cell_type": "code",
   "execution_count": 79,
   "metadata": {
    "colab": {
     "base_uri": "https://localhost:8080/"
    },
    "id": "_w94YPJbW6Ks",
    "outputId": "4d8265f4-0487-4e97-c0ec-ff63c4ce0333"
   },
   "outputs": [
    {
     "data": {
      "text/plain": [
       "(0, 11)"
      ]
     },
     "execution_count": 79,
     "metadata": {},
     "output_type": "execute_result"
    }
   ],
   "source": [
    "final_rating.shape"
   ]
  },
  {
   "cell_type": "code",
   "execution_count": 80,
   "metadata": {
    "id": "A4Z4HU5jW8Ws"
   },
   "outputs": [],
   "source": [
    "book_pivot = final_rating.pivot_table(columns='User-ID', index='Book-Title', values= 'Book-Rating')"
   ]
  },
  {
   "cell_type": "code",
   "execution_count": 81,
   "metadata": {
    "colab": {
     "base_uri": "https://localhost:8080/",
     "height": 472
    },
    "id": "DEt-BbWVFP11",
    "outputId": "e19188d3-e6d5-4836-9f17-56478e9eb187"
   },
   "outputs": [
    {
     "data": {
      "text/html": [
       "<div>\n",
       "<style scoped>\n",
       "    .dataframe tbody tr th:only-of-type {\n",
       "        vertical-align: middle;\n",
       "    }\n",
       "\n",
       "    .dataframe tbody tr th {\n",
       "        vertical-align: top;\n",
       "    }\n",
       "\n",
       "    .dataframe thead th {\n",
       "        text-align: right;\n",
       "    }\n",
       "</style>\n",
       "<table border=\"1\" class=\"dataframe\">\n",
       "  <thead>\n",
       "    <tr style=\"text-align: right;\">\n",
       "      <th>User-ID</th>\n",
       "    </tr>\n",
       "    <tr>\n",
       "      <th>Book-Title</th>\n",
       "    </tr>\n",
       "  </thead>\n",
       "  <tbody>\n",
       "  </tbody>\n",
       "</table>\n",
       "</div>"
      ],
      "text/plain": [
       "Empty DataFrame\n",
       "Columns: []\n",
       "Index: []"
      ]
     },
     "execution_count": 81,
     "metadata": {},
     "output_type": "execute_result"
    }
   ],
   "source": [
    "book_pivot"
   ]
  },
  {
   "cell_type": "code",
   "execution_count": 82,
   "metadata": {
    "id": "pOq65ZdCFpxd"
   },
   "outputs": [],
   "source": [
    "book_pivot.fillna(0, inplace=True)"
   ]
  },
  {
   "cell_type": "code",
   "execution_count": 83,
   "metadata": {
    "colab": {
     "base_uri": "https://localhost:8080/",
     "height": 472
    },
    "id": "aqQHspcfFuV6",
    "outputId": "9f39a322-8167-4ce3-d13a-4163168d474c"
   },
   "outputs": [
    {
     "data": {
      "text/html": [
       "<div>\n",
       "<style scoped>\n",
       "    .dataframe tbody tr th:only-of-type {\n",
       "        vertical-align: middle;\n",
       "    }\n",
       "\n",
       "    .dataframe tbody tr th {\n",
       "        vertical-align: top;\n",
       "    }\n",
       "\n",
       "    .dataframe thead th {\n",
       "        text-align: right;\n",
       "    }\n",
       "</style>\n",
       "<table border=\"1\" class=\"dataframe\">\n",
       "  <thead>\n",
       "    <tr style=\"text-align: right;\">\n",
       "      <th>User-ID</th>\n",
       "    </tr>\n",
       "    <tr>\n",
       "      <th>Book-Title</th>\n",
       "    </tr>\n",
       "  </thead>\n",
       "  <tbody>\n",
       "  </tbody>\n",
       "</table>\n",
       "</div>"
      ],
      "text/plain": [
       "Empty DataFrame\n",
       "Columns: []\n",
       "Index: []"
      ]
     },
     "execution_count": 83,
     "metadata": {},
     "output_type": "execute_result"
    }
   ],
   "source": [
    "book_pivot"
   ]
  },
  {
   "cell_type": "code",
   "execution_count": 84,
   "metadata": {},
   "outputs": [
    {
     "name": "stdout",
     "output_type": "stream",
     "text": [
      "(69226, 3)\n",
      "      User-ID        ISBN  Book-Rating\n",
      "5137     2276  0020960808           10\n",
      "5138     2276  0030632366            9\n",
      "5139     2276  0061030643            8\n",
      "5140     2276  0061098353            8\n",
      "5141     2276  0061099155            9\n"
     ]
    }
   ],
   "source": [
    "print(ratings.shape)\n",
    "print(ratings.head())"
   ]
  },
  {
   "cell_type": "code",
   "execution_count": 85,
   "metadata": {},
   "outputs": [
    {
     "name": "stdout",
     "output_type": "stream",
     "text": [
      "(53817, 144)\n"
     ]
    }
   ],
   "source": [
    "book_pivot = ratings.pivot_table(index='ISBN', columns='User-ID', values='Book-Rating')\n",
    "print(book_pivot.shape)"
   ]
  },
  {
   "cell_type": "code",
   "execution_count": 86,
   "metadata": {},
   "outputs": [
    {
     "name": "stdout",
     "output_type": "stream",
     "text": [
      "0\n"
     ]
    }
   ],
   "source": [
    "book_counts = ratings['ISBN'].value_counts()\n",
    "print((book_counts >= 50).sum())  # number of books with >= 50 ratings"
   ]
  },
  {
   "cell_type": "code",
   "execution_count": 87,
   "metadata": {},
   "outputs": [],
   "source": [
    "popular_books = book_counts[book_counts >= 20].index\n",
    "filtered_ratings = ratings[ratings['ISBN'].isin(popular_books)]"
   ]
  },
  {
   "cell_type": "code",
   "execution_count": 88,
   "metadata": {},
   "outputs": [
    {
     "name": "stdout",
     "output_type": "stream",
     "text": [
      "(2, 41)\n"
     ]
    }
   ],
   "source": [
    "book_pivot = filtered_ratings.pivot_table(index='ISBN', columns='User-ID', values='Book-Rating').fillna(0)\n",
    "print(book_pivot.shape)  # this should now be non-empty"
   ]
  },
  {
   "cell_type": "code",
   "execution_count": 89,
   "metadata": {},
   "outputs": [],
   "source": [
    "user_counts = ratings['User-ID'].value_counts()\n",
    "active_users = user_counts[user_counts >= 10].index\n",
    "filtered_ratings = filtered_ratings[filtered_ratings['User-ID'].isin(active_users)]"
   ]
  },
  {
   "cell_type": "code",
   "execution_count": 90,
   "metadata": {},
   "outputs": [],
   "source": [
    "from sklearn.metrics.pairwise import cosine_similarity\n",
    "\n",
    "similarity_scores = cosine_similarity(book_pivot)"
   ]
  },
  {
   "cell_type": "code",
   "execution_count": 91,
   "metadata": {},
   "outputs": [
    {
     "name": "stdout",
     "output_type": "stream",
     "text": [
      "Pivot shape: (144, 53817)\n"
     ]
    }
   ],
   "source": [
    "book_pivot = ratings.pivot_table(\n",
    "    index=\"User-ID\",\n",
    "    columns=\"ISBN\",\n",
    "    values=\"Book-Rating\",\n",
    "    fill_value=0\n",
    ")\n",
    "\n",
    "print(\"Pivot shape:\", book_pivot.shape)\n"
   ]
  },
  {
   "cell_type": "code",
   "execution_count": 92,
   "metadata": {},
   "outputs": [],
   "source": [
    "#Filter books with ≥ 30 ratings\n",
    "book_counts = ratings['ISBN'].value_counts()\n",
    "popular_books = book_counts[book_counts >= 30].index\n",
    "ratings = ratings[ratings['ISBN'].isin(popular_books)]\n",
    "\n",
    "#Filter users with ≥ 10 ratings\n",
    "user_counts = ratings['User-ID'].value_counts()\n",
    "active_users = user_counts[user_counts >= 10].index\n",
    "ratings = ratings[ratings['User-ID'].isin(active_users)]"
   ]
  },
  {
   "cell_type": "code",
   "execution_count": 93,
   "metadata": {},
   "outputs": [
    {
     "name": "stdout",
     "output_type": "stream",
     "text": [
      "(0, 0)\n"
     ]
    }
   ],
   "source": [
    "book_pivot = ratings.pivot_table(index='ISBN', columns='User-ID', values='Book-Rating').fillna(0)\n",
    "print(book_pivot.shape)  # Should show (n_books, n_users) > (0, 0)"
   ]
  },
  {
   "cell_type": "code",
   "execution_count": 94,
   "metadata": {},
   "outputs": [],
   "source": [
    "# Use more lenient thresholds\n",
    "book_counts = ratings['ISBN'].value_counts()\n",
    "popular_books = book_counts[book_counts >= 10].index  # try 10 instead of 30\n",
    "\n",
    "user_counts = ratings['User-ID'].value_counts()\n",
    "active_users = user_counts[user_counts >= 5].index     # try 5 instead of 10\n",
    "\n",
    "# Filter again\n",
    "filtered_ratings = ratings[\n",
    "    ratings['ISBN'].isin(popular_books) &\n",
    "    ratings['User-ID'].isin(active_users)\n",
    "]"
   ]
  },
  {
   "cell_type": "code",
   "execution_count": 95,
   "metadata": {},
   "outputs": [
    {
     "name": "stdout",
     "output_type": "stream",
     "text": [
      "Pivot shape: (0, 0)\n"
     ]
    }
   ],
   "source": [
    "book_pivot = filtered_ratings.pivot_table(\n",
    "    index='ISBN',\n",
    "    columns='User-ID',\n",
    "    values='Book-Rating'\n",
    ").fillna(0)\n",
    "\n",
    "print(\"Pivot shape:\", book_pivot.shape)"
   ]
  },
  {
   "cell_type": "code",
   "execution_count": null,
   "metadata": {},
   "outputs": [],
   "source": []
  },
  {
   "cell_type": "code",
   "execution_count": 96,
   "metadata": {},
   "outputs": [],
   "source": [
    "ratings_df = pd.read_csv(\"Ratings.csv\", encoding=\"latin-1\")\n",
    "ratings_df.columns = ['User-ID', 'ISBN', 'Book-Rating']\n",
    "\n",
    "# Keep only non-zero (explicit) ratings\n",
    "ratings_df = ratings_df[ratings_df['Book-Rating'] > 0]"
   ]
  },
  {
   "cell_type": "code",
   "execution_count": 97,
   "metadata": {},
   "outputs": [
    {
     "name": "stdout",
     "output_type": "stream",
     "text": [
      "Total ratings: 433671\n",
      "Unique books: 185973\n",
      "Unique users: 77805\n"
     ]
    }
   ],
   "source": [
    "print(\"Total ratings:\", len(ratings_df))\n",
    "print(\"Unique books:\", ratings_df['ISBN'].nunique())\n",
    "print(\"Unique users:\", ratings_df['User-ID'].nunique())"
   ]
  },
  {
   "cell_type": "code",
   "execution_count": 98,
   "metadata": {},
   "outputs": [],
   "source": [
    "book_counts = ratings_df['ISBN'].value_counts()\n",
    "popular_books = book_counts[book_counts >= 50].index"
   ]
  },
  {
   "cell_type": "code",
   "execution_count": 99,
   "metadata": {},
   "outputs": [],
   "source": [
    "user_counts = ratings_df['User-ID'].value_counts()\n",
    "active_users = user_counts[user_counts >= 10].index"
   ]
  },
  {
   "cell_type": "code",
   "execution_count": 100,
   "metadata": {},
   "outputs": [],
   "source": [
    "filtered_df = ratings_df[\n",
    "    ratings_df['ISBN'].isin(popular_books) &\n",
    "    ratings_df['User-ID'].isin(active_users)\n",
    "]"
   ]
  },
  {
   "cell_type": "code",
   "execution_count": 101,
   "metadata": {},
   "outputs": [
    {
     "name": "stdout",
     "output_type": "stream",
     "text": [
      "Unique books: 537\n",
      "Unique users: 5371\n"
     ]
    }
   ],
   "source": [
    "print(\"Unique books:\", filtered_df['ISBN'].nunique())\n",
    "print(\"Unique users:\", filtered_df['User-ID'].nunique())"
   ]
  },
  {
   "cell_type": "code",
   "execution_count": 102,
   "metadata": {},
   "outputs": [
    {
     "name": "stdout",
     "output_type": "stream",
     "text": [
      "Pivot shape: (537, 5371)\n"
     ]
    }
   ],
   "source": [
    "book_pivot = filtered_df.pivot_table(\n",
    "    index='ISBN',\n",
    "    columns='User-ID',\n",
    "    values='Book-Rating',\n",
    "    aggfunc='mean'\n",
    ").fillna(0)\n",
    "\n",
    "print(\"Pivot shape:\", book_pivot.shape)"
   ]
  },
  {
   "cell_type": "code",
   "execution_count": 103,
   "metadata": {},
   "outputs": [],
   "source": [
    "from scipy.sparse import csr_matrix\n",
    "\n",
    "book_sparse = csr_matrix(book_pivot.values)"
   ]
  },
  {
   "cell_type": "code",
   "execution_count": 104,
   "metadata": {},
   "outputs": [],
   "source": [
    "from sklearn.metrics.pairwise import cosine_similarity\n",
    "\n",
    "similarity_scores = cosine_similarity(book_sparse)"
   ]
  },
  {
   "cell_type": "code",
   "execution_count": 105,
   "metadata": {},
   "outputs": [],
   "source": [
    "# Index mappings\n",
    "isbn_list = book_pivot.index.tolist()\n",
    "isbn_to_idx = {isbn: idx for idx, isbn in enumerate(isbn_list)}\n",
    "idx_to_isbn = {idx: isbn for idx, isbn in enumerate(isbn_list)}"
   ]
  },
  {
   "cell_type": "code",
   "execution_count": 106,
   "metadata": {},
   "outputs": [],
   "source": [
    "def recommend_books(target_isbn, top_n=5):\n",
    "    if target_isbn not in isbn_to_idx:\n",
    "        return f\"ISBN {target_isbn} not found in the dataset.\"\n",
    "\n",
    "    # Get index of the target book\n",
    "    idx = isbn_to_idx[target_isbn]\n",
    "\n",
    "    # Get similarity scores for that book\n",
    "    sim_scores = list(enumerate(similarity_scores[idx]))\n",
    "\n",
    "    # Sort by similarity (excluding itself)\n",
    "    sim_scores = sorted(sim_scores, key=lambda x: x[1], reverse=True)\n",
    "    top_books = sim_scores[1:top_n+1]  # Skip the first one (itself)\n",
    "\n",
    "    # Get corresponding ISBNs\n",
    "    recommendations = [(idx_to_isbn[i], round(score, 3)) for i, score in top_books]\n",
    "    return recommendations"
   ]
  },
  {
   "cell_type": "code",
   "execution_count": 107,
   "metadata": {},
   "outputs": [
    {
     "name": "stdout",
     "output_type": "stream",
     "text": [
      "[('1844262553', 0.093), ('0060199652', 0.081), ('0679731148', 0.076), ('0446612790', 0.074), ('0743412028', 0.071)]\n"
     ]
    }
   ],
   "source": [
    "print(recommend_books('0971880107', top_n=5))"
   ]
  },
  {
   "cell_type": "code",
   "execution_count": 108,
   "metadata": {},
   "outputs": [],
   "source": [
    "# Ensure ISBN is a string in both DataFrames\n",
    "books['ISBN'] = books['ISBN'].astype(str)\n",
    "\n",
    "# Create ISBN → Title mapping\n",
    "isbn_to_title = books.set_index('ISBN')['Book-Title'].to_dict()"
   ]
  },
  {
   "cell_type": "code",
   "execution_count": 109,
   "metadata": {},
   "outputs": [],
   "source": [
    "def recommend_books_with_titles(target_isbn, top_n=5):\n",
    "    if target_isbn not in isbn_to_idx:\n",
    "        return f\"ISBN {target_isbn} not found in the dataset.\"\n",
    "\n",
    "    idx = isbn_to_idx[target_isbn]\n",
    "    sim_scores = list(enumerate(similarity_scores[idx]))\n",
    "    sim_scores = sorted(sim_scores, key=lambda x: x[1], reverse=True)\n",
    "    top_books = sim_scores[1:top_n+1]\n",
    "\n",
    "    recommendations = []\n",
    "    for i, score in top_books:\n",
    "        isbn = idx_to_isbn[i]\n",
    "        title = isbn_to_title.get(isbn, \"Unknown Title\")\n",
    "        recommendations.append((title, round(score, 3)))\n",
    "\n",
    "    return recommendations\n"
   ]
  },
  {
   "cell_type": "code",
   "execution_count": 110,
   "metadata": {},
   "outputs": [],
   "source": [
    "def recommend_books(isbn, top_n=5):\n",
    "    if isbn not in isbn_to_idx:\n",
    "        return f\"❌ ISBN '{isbn}' not found.\"\n",
    "\n",
    "    idx = isbn_to_idx[isbn]\n",
    "    sim_scores = list(enumerate(similarity_scores[idx]))\n",
    "    sim_scores = sorted(sim_scores, key=lambda x: x[1], reverse=True)[1:top_n+1]\n",
    "\n",
    "    results = []\n",
    "    for i, score in sim_scores:\n",
    "        similar_isbn = idx_to_isbn[i]\n",
    "        title = isbn_to_title.get(similar_isbn, \"Unknown Title\")\n",
    "        results.append((title, round(score, 3)))\n",
    "    return results"
   ]
  },
  {
   "cell_type": "code",
   "execution_count": 111,
   "metadata": {},
   "outputs": [],
   "source": [
    "def recommend(book_name, top_n=5):\n",
    "    try:\n",
    "        index = np.where(book_pivot.index == book_name)[0][0]\n",
    "        similar_items = sorted(\n",
    "            list(enumerate(similarity_scores[index])),\n",
    "            key=lambda x: x[1],\n",
    "            reverse=True\n",
    "        )[1 : top_n + 1]\n",
    "\n",
    "        results = [(book_pivot.index[i], round(score, 3)) for i, score in similar_items]\n",
    "        return results\n",
    "    except IndexError:\n",
    "        return []"
   ]
  },
  {
   "cell_type": "code",
   "execution_count": 112,
   "metadata": {},
   "outputs": [],
   "source": [
    "def recommend_by_title(title, top_n=5):\n",
    "    isbn = None\n",
    "    for k, v in isbn_to_title.items():\n",
    "        if v == title:\n",
    "            isbn = k\n",
    "            break\n",
    "    if not isbn or isbn not in book_pivot.index:\n",
    "        return []\n",
    "\n",
    "    index = np.where(book_pivot.index == isbn)[0][0]\n",
    "    similar_items = sorted(\n",
    "        list(enumerate(similarity_scores[index])),\n",
    "        key=lambda x: x[1],\n",
    "        reverse=True\n",
    "    )[1 : top_n + 1]\n",
    "\n",
    "    results = []\n",
    "    for i, score in similar_items:\n",
    "        similar_isbn = book_pivot.index[i]\n",
    "        similar_title = isbn_to_title.get(similar_isbn, \"Unknown Title\")\n",
    "        results.append((similar_title, round(score, 3)))\n",
    "    return results"
   ]
  },
  {
   "cell_type": "code",
   "execution_count": 113,
   "metadata": {},
   "outputs": [],
   "source": [
    "def recommend_books_with_images(isbn, top_n=5):\n",
    "    try:\n",
    "        index = np.where(book_pivot.index == isbn)[0][0]\n",
    "    except IndexError:\n",
    "        return []\n",
    "\n",
    "    similar_items = sorted(\n",
    "        list(enumerate(similarity_scores[index])),\n",
    "        key=lambda x: x[1],\n",
    "        reverse=True\n",
    "    )[1 : top_n + 1]\n",
    "\n",
    "    results = []\n",
    "    for i, score in similar_items:\n",
    "        similar_isbn = book_pivot.index[i]\n",
    "        similar_title = isbn_to_title.get(similar_isbn, \"Unknown Title\")\n",
    "        book_info = books[books[\"ISBN\"] == similar_isbn].drop_duplicates(\"ISBN\")\n",
    "        if not book_info.empty:\n",
    "            author = book_info[\"Book-Author\"].values[0]\n",
    "            image = book_info[\"Image-URL-M\"].values[0]\n",
    "            results.append((similar_title, author, image, round(score, 3)))\n",
    "    return results"
   ]
  },
  {
   "cell_type": "code",
   "execution_count": 114,
   "metadata": {},
   "outputs": [],
   "source": [
    "def get_popular_books(n=5):\n",
    "    books_filtered = books[books[\"ISBN\"].isin(valid_isbn)]\n",
    "    popular = (\n",
    "        books_filtered.groupby(\"Book-Title\")\n",
    "        .agg({\"Book-Rating\": \"mean\", \"ISBN\": \"count\"})\n",
    "        .rename(columns={\"ISBN\": \"Rating-Count\"})\n",
    "        .sort_values([\"Rating-Count\", \"Book-Rating\"], ascending=False)\n",
    "        .head(n)\n",
    "        .reset_index()\n",
    "    )\n",
    "    return popular"
   ]
  },
  {
   "cell_type": "code",
   "execution_count": 115,
   "metadata": {},
   "outputs": [
    {
     "name": "stdout",
     "output_type": "stream",
     "text": [
      "[('A Year in Provence', 'Peter Mayle', 'http://images.amazon.com/images/P/0679731148.01.MZZZZZZZ.jpg', 0.076)]\n"
     ]
    }
   ],
   "source": [
    "print(recommend_books_with_images('0971880107'))"
   ]
  },
  {
   "cell_type": "code",
   "execution_count": 116,
   "metadata": {},
   "outputs": [
    {
     "name": "stdout",
     "output_type": "stream",
     "text": [
      "[('Unknown Title', 0.144), ('The Phantom Tollbooth', 0.126), ('Unknown Title', 0.121), ('Unknown Title', 0.118), ('Unknown Title', 0.113)]\n"
     ]
    }
   ],
   "source": [
    "print(recommend_by_title('A Year in Provence'))"
   ]
  },
  {
   "cell_type": "code",
   "execution_count": 117,
   "metadata": {},
   "outputs": [],
   "source": [
    "# Using recommend_books_with_images and get_popular_books function for deployment"
   ]
  },
  {
   "cell_type": "code",
   "execution_count": 118,
   "metadata": {},
   "outputs": [
    {
     "name": "stdout",
     "output_type": "stream",
     "text": [
      "Data saved to recommendation_data.pkl\n"
     ]
    }
   ],
   "source": [
    "import pickle\n",
    "\n",
    "# Save everything needed\n",
    "data = {\n",
    "    \"book_pivot\": book_pivot,\n",
    "    \"similarity_scores\": similarity_scores,\n",
    "    \"isbn_to_idx\": isbn_to_idx,\n",
    "    \"idx_to_isbn\": idx_to_isbn,\n",
    "    \"isbn_to_title\": isbn_to_title\n",
    "}\n",
    "\n",
    "with open(\"recommendation_data.pkl\", \"wb\") as f:\n",
    "    pickle.dump(data, f)\n",
    "\n",
    "print(\"Data saved to recommendation_data.pkl\")"
   ]
  },
  {
   "cell_type": "code",
   "execution_count": null,
   "metadata": {},
   "outputs": [],
   "source": []
  },
  {
   "cell_type": "markdown",
   "metadata": {},
   "source": [
    "### Needed to Downsample / Reduce rows in order for all files to meet the 25Mb size limit for Github"
   ]
  },
  {
   "cell_type": "code",
   "execution_count": 119,
   "metadata": {},
   "outputs": [],
   "source": [
    "#import pandas as pd\n",
    "\n",
    "#n_rows = 2000 \n",
    "\n",
    "#books_sample = pd.read_csv(\"Books.csv\", nrows=n_rows)\n",
    "\n",
    "#books_sample.to_csv(\"Books_sample.csv\", index=False)\n",
    "#print(\"Books_sample.csv shape:\", books_sample.shape)"
   ]
  },
  {
   "cell_type": "code",
   "execution_count": 120,
   "metadata": {},
   "outputs": [
    {
     "name": "stdout",
     "output_type": "stream",
     "text": [
      "Requirement already satisfied: pandas==2.3.3 in c:\\users\\vighn\\appdata\\local\\programs\\python\\python311\\lib\\site-packages (2.3.3)\n",
      "Requirement already satisfied: numpy>=1.23.2 in c:\\users\\vighn\\appdata\\local\\programs\\python\\python311\\lib\\site-packages (from pandas==2.3.3) (1.24.3)\n",
      "Requirement already satisfied: python-dateutil>=2.8.2 in c:\\users\\vighn\\appdata\\local\\programs\\python\\python311\\lib\\site-packages (from pandas==2.3.3) (2.8.2)\n",
      "Requirement already satisfied: pytz>=2020.1 in c:\\users\\vighn\\appdata\\local\\programs\\python\\python311\\lib\\site-packages (from pandas==2.3.3) (2023.3.post1)\n",
      "Requirement already satisfied: tzdata>=2022.7 in c:\\users\\vighn\\appdata\\local\\programs\\python\\python311\\lib\\site-packages (from pandas==2.3.3) (2023.3)\n",
      "Requirement already satisfied: six>=1.5 in c:\\users\\vighn\\appdata\\local\\programs\\python\\python311\\lib\\site-packages (from python-dateutil>=2.8.2->pandas==2.3.3) (1.16.0)\n",
      "Note: you may need to restart the kernel to use updated packages.\n"
     ]
    }
   ],
   "source": [
    "pip install pandas==2.3.3"
   ]
  },
  {
   "cell_type": "code",
   "execution_count": 121,
   "metadata": {},
   "outputs": [
    {
     "name": "stdout",
     "output_type": "stream",
     "text": [
      "Requirement already satisfied: pip in c:\\users\\vighn\\appdata\\local\\programs\\python\\python311\\lib\\site-packages (25.2)\n",
      "Note: you may need to restart the kernel to use updated packages.\n"
     ]
    }
   ],
   "source": [
    "pip install --upgrade pip\n"
   ]
  },
  {
   "cell_type": "code",
   "execution_count": null,
   "metadata": {},
   "outputs": [],
   "source": []
  }
 ],
 "metadata": {
  "colab": {
   "provenance": []
  },
  "kernelspec": {
   "display_name": "Python 3 (ipykernel)",
   "language": "python",
   "name": "python3"
  },
  "language_info": {
   "codemirror_mode": {
    "name": "ipython",
    "version": 3
   },
   "file_extension": ".py",
   "mimetype": "text/x-python",
   "name": "python",
   "nbconvert_exporter": "python",
   "pygments_lexer": "ipython3",
   "version": "3.11.4"
  }
 },
 "nbformat": 4,
 "nbformat_minor": 4
}
